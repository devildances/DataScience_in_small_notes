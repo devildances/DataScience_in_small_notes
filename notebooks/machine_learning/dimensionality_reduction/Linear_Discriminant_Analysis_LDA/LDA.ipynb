{
 "metadata": {
  "language_info": {
   "codemirror_mode": {
    "name": "ipython",
    "version": 3
   },
   "file_extension": ".py",
   "mimetype": "text/x-python",
   "name": "python",
   "nbconvert_exporter": "python",
   "pygments_lexer": "ipython3",
   "version": "3.8.6-final"
  },
  "orig_nbformat": 2,
  "kernelspec": {
   "name": "Python 3.8.6 64-bit ('datasciencenote')",
   "display_name": "Python 3.8.6 64-bit ('datasciencenote')",
   "metadata": {
    "interpreter": {
     "hash": "d301a79a4c72a9c4597d10e7d49a765ad604cfb809248e0230d5a3f688077c5c"
    }
   }
  }
 },
 "nbformat": 4,
 "nbformat_minor": 2,
 "cells": [
  {
   "source": [
    "<h1 style=\"text-align:center\">Linear Discriminant Analysis (LDA)<br>[<a href=\"https://sebastianraschka.com/Articles/2014_python_lda.html\">source</a>]</h1>\n",
    "\n",
    "<p style=\"font-size:15px\">LDA can be describe as:<ul style=\"font-size:15px\">\n",
    "        <li>It is used as a dimensionality reduction technique\n",
    "        <li>It is used in the pre-processing step for pattern classification and machine learning algorithms\n",
    "        <li>It has the goal to project a dataset onto a lower-dimensional space<ul>\n",
    "                <li>Breaking it down further, the goal of LDA is to project a feature space (a dataset n-dimensional samples) onto a small subspace k (where k <= n-1) while maintaining the class-discriminatory information\n",
    "            </ul>\n",
    "        <li><strong>LDA is different with PCA because in addition to finding the component axises with LDA we are interested in the axes that maximize the separation between multiple classes</strong>\n",
    "        <li>Both PCA and LDA are linear transformation techniques used for dimensional reduction\n",
    "        <li>It is supervised because of the relation to the dependent variable\n",
    "    </ul>\n",
    "</p><br>\n",
    "\n",
    "<p style=\"font-size:15px\">We can accomplish this by 5 main steps:<ol>\n",
    "        <li>Compute the <i>d</i>-dimensional mean vectors for the different classes from the dataset\n",
    "        <li>Compute the scatter matrices (in-between-class and within-class scatter matrix)\n",
    "        <li>Compute the eigenvectors and corresponding eigenvalues for the scatter matrices\n",
    "        <li>Sort the eigenvectors by decresing eigenvalues and choose <i>k</i> eigenvectors with the largest eigenvalues to form a <i>d x k</i> dimensional matrix <strong><i>W</i></strong> (where every column represents an eigenvector)\n",
    "        <li>Use this <i>d x k</i> eigenvector matrix to transform the samples onto the new subspace, this can be summarized by the matrix multiplication: <strong><i>Y = X x W</i></strong> (where <strong><i>X</i></strong> is a <i>n x d</i>-dimensional matrix representing the <i>n</i> samples, and <i>y</i> are the transformed <i>n x k</i>-dimensional samples in the new subspace)\n",
    "    </ol>\n",
    "</p><br>\n",
    "\n",
    "<p style=\"font-size:15px\"></p>\n",
    "<p style=\"font-size:15px\"></p>\n",
    "<p style=\"font-size:15px\"></p>\n",
    "<p style=\"font-size:15px\"></p>\n",
    "<p style=\"font-size:15px\"></p>"
   ],
   "cell_type": "markdown",
   "metadata": {}
  },
  {
   "source": [
    "---\n",
    "<h2>1. Importing the Dataset</h2>"
   ],
   "cell_type": "markdown",
   "metadata": {}
  },
  {
   "cell_type": "code",
   "execution_count": 1,
   "metadata": {},
   "outputs": [
    {
     "output_type": "display_data",
     "data": {
      "text/plain": "   Alcohol  Malic_Acid   Ash  Ash_Alcanity  Magnesium  Total_Phenols  \\\n0    14.23        1.71  2.43          15.6        127           2.80   \n1    13.20        1.78  2.14          11.2        100           2.65   \n2    13.16        2.36  2.67          18.6        101           2.80   \n3    14.37        1.95  2.50          16.8        113           3.85   \n4    13.24        2.59  2.87          21.0        118           2.80   \n\n   Flavanoids  Nonflavanoid_Phenols  Proanthocyanins  Color_Intensity   Hue  \\\n0        3.06                  0.28             2.29             5.64  1.04   \n1        2.76                  0.26             1.28             4.38  1.05   \n2        3.24                  0.30             2.81             5.68  1.03   \n3        3.49                  0.24             2.18             7.80  0.86   \n4        2.69                  0.39             1.82             4.32  1.04   \n\n   OD280  Proline  Customer_Segment  \n0   3.92     1065                 1  \n1   3.40     1050                 1  \n2   3.17     1185                 1  \n3   3.45     1480                 1  \n4   2.93      735                 1  ",
      "text/html": "<div>\n<style scoped>\n    .dataframe tbody tr th:only-of-type {\n        vertical-align: middle;\n    }\n\n    .dataframe tbody tr th {\n        vertical-align: top;\n    }\n\n    .dataframe thead th {\n        text-align: right;\n    }\n</style>\n<table border=\"1\" class=\"dataframe\">\n  <thead>\n    <tr style=\"text-align: right;\">\n      <th></th>\n      <th>Alcohol</th>\n      <th>Malic_Acid</th>\n      <th>Ash</th>\n      <th>Ash_Alcanity</th>\n      <th>Magnesium</th>\n      <th>Total_Phenols</th>\n      <th>Flavanoids</th>\n      <th>Nonflavanoid_Phenols</th>\n      <th>Proanthocyanins</th>\n      <th>Color_Intensity</th>\n      <th>Hue</th>\n      <th>OD280</th>\n      <th>Proline</th>\n      <th>Customer_Segment</th>\n    </tr>\n  </thead>\n  <tbody>\n    <tr>\n      <th>0</th>\n      <td>14.23</td>\n      <td>1.71</td>\n      <td>2.43</td>\n      <td>15.6</td>\n      <td>127</td>\n      <td>2.80</td>\n      <td>3.06</td>\n      <td>0.28</td>\n      <td>2.29</td>\n      <td>5.64</td>\n      <td>1.04</td>\n      <td>3.92</td>\n      <td>1065</td>\n      <td>1</td>\n    </tr>\n    <tr>\n      <th>1</th>\n      <td>13.20</td>\n      <td>1.78</td>\n      <td>2.14</td>\n      <td>11.2</td>\n      <td>100</td>\n      <td>2.65</td>\n      <td>2.76</td>\n      <td>0.26</td>\n      <td>1.28</td>\n      <td>4.38</td>\n      <td>1.05</td>\n      <td>3.40</td>\n      <td>1050</td>\n      <td>1</td>\n    </tr>\n    <tr>\n      <th>2</th>\n      <td>13.16</td>\n      <td>2.36</td>\n      <td>2.67</td>\n      <td>18.6</td>\n      <td>101</td>\n      <td>2.80</td>\n      <td>3.24</td>\n      <td>0.30</td>\n      <td>2.81</td>\n      <td>5.68</td>\n      <td>1.03</td>\n      <td>3.17</td>\n      <td>1185</td>\n      <td>1</td>\n    </tr>\n    <tr>\n      <th>3</th>\n      <td>14.37</td>\n      <td>1.95</td>\n      <td>2.50</td>\n      <td>16.8</td>\n      <td>113</td>\n      <td>3.85</td>\n      <td>3.49</td>\n      <td>0.24</td>\n      <td>2.18</td>\n      <td>7.80</td>\n      <td>0.86</td>\n      <td>3.45</td>\n      <td>1480</td>\n      <td>1</td>\n    </tr>\n    <tr>\n      <th>4</th>\n      <td>13.24</td>\n      <td>2.59</td>\n      <td>2.87</td>\n      <td>21.0</td>\n      <td>118</td>\n      <td>2.80</td>\n      <td>2.69</td>\n      <td>0.39</td>\n      <td>1.82</td>\n      <td>4.32</td>\n      <td>1.04</td>\n      <td>2.93</td>\n      <td>735</td>\n      <td>1</td>\n    </tr>\n  </tbody>\n</table>\n</div>"
     },
     "metadata": {}
    }
   ],
   "source": [
    "import pandas as pd\n",
    "import numpy as np\n",
    "\n",
    "df = pd.read_csv('../../../../data/clean/Wine.csv')\n",
    "display(df.head())\n",
    "x = df.iloc[:, :-1].values\n",
    "y = df.iloc[:, -1].values"
   ]
  },
  {
   "source": [
    "---\n",
    "<h2>2. Splitting the Dataset</h2>"
   ],
   "cell_type": "markdown",
   "metadata": {}
  },
  {
   "cell_type": "code",
   "execution_count": 2,
   "metadata": {
    "tags": []
   },
   "outputs": [
    {
     "output_type": "stream",
     "name": "stdout",
     "text": "train dataset size : 142 observations\ntest dataset size : 36 observations\n"
    }
   ],
   "source": [
    "from sklearn.model_selection import train_test_split\n",
    "\n",
    "x_train, x_test, y_train, y_test = train_test_split(x, y, test_size=0.2, random_state=0)\n",
    "print(\"train dataset size : {} observations\\ntest dataset size : {} observations\".format(x_train.shape[0], x_test.shape[0]))"
   ]
  },
  {
   "source": [
    "---\n",
    "<h2>3. Feature Scaling</h2>"
   ],
   "cell_type": "markdown",
   "metadata": {}
  },
  {
   "cell_type": "code",
   "execution_count": 3,
   "metadata": {},
   "outputs": [],
   "source": [
    "from sklearn.preprocessing import StandardScaler\n",
    "\n",
    "stand_x = StandardScaler().fit(x_train)\n",
    "x_ss = stand_x.transform(x_train)"
   ]
  },
  {
   "source": [
    "---\n",
    "<h2>4. Applying LDA</h2>"
   ],
   "cell_type": "markdown",
   "metadata": {}
  },
  {
   "cell_type": "code",
   "execution_count": 4,
   "metadata": {},
   "outputs": [],
   "source": [
    "from sklearn.discriminant_analysis import LinearDiscriminantAnalysis as LDA\n",
    "\n",
    "lda = LDA(n_components=2).fit(x_ss, y_train)\n",
    "x_lda = lda.transform(x_ss)"
   ]
  },
  {
   "source": [
    "---\n",
    "<h2>5. Training the Logistic Regression Model (for testing purpose) on The Training Dataset</h2>"
   ],
   "cell_type": "markdown",
   "metadata": {}
  },
  {
   "cell_type": "code",
   "execution_count": 5,
   "metadata": {},
   "outputs": [
    {
     "output_type": "execute_result",
     "data": {
      "text/plain": "LogisticRegression(random_state=0)"
     },
     "metadata": {},
     "execution_count": 5
    }
   ],
   "source": [
    "from sklearn.linear_model import LogisticRegression\n",
    "\n",
    "logreg = LogisticRegression(random_state=0)\n",
    "logreg.fit(x_lda, y_train)"
   ]
  },
  {
   "source": [
    "---\n",
    "<h2>6. Predicting the Test Dataset Results</h2>"
   ],
   "cell_type": "markdown",
   "metadata": {}
  },
  {
   "cell_type": "code",
   "execution_count": 6,
   "metadata": {},
   "outputs": [
    {
     "output_type": "execute_result",
     "data": {
      "text/plain": "   y actual  y prediction\n0         1             1\n1         3             3\n2         2             2\n3         1             1\n4         2             2\n5         2             2\n6         1             1\n7         3             3\n8         2             2\n9         2             2",
      "text/html": "<div>\n<style scoped>\n    .dataframe tbody tr th:only-of-type {\n        vertical-align: middle;\n    }\n\n    .dataframe tbody tr th {\n        vertical-align: top;\n    }\n\n    .dataframe thead th {\n        text-align: right;\n    }\n</style>\n<table border=\"1\" class=\"dataframe\">\n  <thead>\n    <tr style=\"text-align: right;\">\n      <th></th>\n      <th>y actual</th>\n      <th>y prediction</th>\n    </tr>\n  </thead>\n  <tbody>\n    <tr>\n      <th>0</th>\n      <td>1</td>\n      <td>1</td>\n    </tr>\n    <tr>\n      <th>1</th>\n      <td>3</td>\n      <td>3</td>\n    </tr>\n    <tr>\n      <th>2</th>\n      <td>2</td>\n      <td>2</td>\n    </tr>\n    <tr>\n      <th>3</th>\n      <td>1</td>\n      <td>1</td>\n    </tr>\n    <tr>\n      <th>4</th>\n      <td>2</td>\n      <td>2</td>\n    </tr>\n    <tr>\n      <th>5</th>\n      <td>2</td>\n      <td>2</td>\n    </tr>\n    <tr>\n      <th>6</th>\n      <td>1</td>\n      <td>1</td>\n    </tr>\n    <tr>\n      <th>7</th>\n      <td>3</td>\n      <td>3</td>\n    </tr>\n    <tr>\n      <th>8</th>\n      <td>2</td>\n      <td>2</td>\n    </tr>\n    <tr>\n      <th>9</th>\n      <td>2</td>\n      <td>2</td>\n    </tr>\n  </tbody>\n</table>\n</div>"
     },
     "metadata": {},
     "execution_count": 6
    }
   ],
   "source": [
    "y_pred = logreg.predict(lda.transform(stand_x.transform(x_test)))\n",
    "\n",
    "pd.DataFrame(data=np.stack((y_test, y_pred), axis=1),\n",
    "             index=None, columns=['y actual', 'y prediction'],\n",
    "             copy=False).head(10)"
   ]
  },
  {
   "source": [
    "---\n",
    "<h2>7. Making the Confusion Matrix</h2>"
   ],
   "cell_type": "markdown",
   "metadata": {}
  },
  {
   "cell_type": "code",
   "execution_count": 7,
   "metadata": {
    "tags": []
   },
   "outputs": [
    {
     "output_type": "stream",
     "name": "stdout",
     "text": "[[14  0  0]\n [ 0 16  0]\n [ 0  0  6]]\n\nConfusion matrix result shows that:\n\t- 14 correct predictions of the customer segment 1        \n\t- 16 correct predictions of the customer segment 2        \n\t- 6 correct predictions of the customer segment 3\n"
    }
   ],
   "source": [
    "from sklearn.metrics import confusion_matrix\n",
    "\n",
    "print(confusion_matrix(y_test, y_pred))\n",
    "print(\"\\nConfusion matrix result shows that:\\n\\t- 14 correct predictions of the customer segment 1\\\n",
    "        \\n\\t- 16 correct predictions of the customer segment 2\\\n",
    "        \\n\\t- 6 correct predictions of the customer segment 3\")"
   ]
  }
 ]
}