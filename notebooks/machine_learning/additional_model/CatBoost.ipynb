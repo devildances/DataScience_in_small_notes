{
 "metadata": {
  "language_info": {
   "codemirror_mode": {
    "name": "ipython",
    "version": 3
   },
   "file_extension": ".py",
   "mimetype": "text/x-python",
   "name": "python",
   "nbconvert_exporter": "python",
   "pygments_lexer": "ipython3",
   "version": "3.8.6-final"
  },
  "orig_nbformat": 2,
  "kernelspec": {
   "name": "Python 3.8.6 64-bit ('datasciencenote': venv)",
   "display_name": "Python 3.8.6 64-bit ('datasciencenote': venv)",
   "metadata": {
    "interpreter": {
     "hash": "d301a79a4c72a9c4597d10e7d49a765ad604cfb809248e0230d5a3f688077c5c"
    }
   }
  }
 },
 "nbformat": 4,
 "nbformat_minor": 2,
 "cells": [
  {
   "source": [
    "<h2>1. Importing the Dataset</h2>"
   ],
   "cell_type": "markdown",
   "metadata": {}
  },
  {
   "cell_type": "code",
   "execution_count": 1,
   "metadata": {},
   "outputs": [
    {
     "output_type": "display_data",
     "data": {
      "text/plain": "   Sample code number  Clump Thickness  Uniformity of Cell Size  \\\n0             1000025                5                        1   \n1             1002945                5                        4   \n2             1015425                3                        1   \n3             1016277                6                        8   \n4             1017023                4                        1   \n\n   Uniformity of Cell Shape  Marginal Adhesion  Single Epithelial Cell Size  \\\n0                         1                  1                            2   \n1                         4                  5                            7   \n2                         1                  1                            2   \n3                         8                  1                            3   \n4                         1                  3                            2   \n\n   Bare Nuclei  Bland Chromatin  Normal Nucleoli  Mitoses  Class  \n0            1                3                1        1      2  \n1           10                3                2        1      2  \n2            2                3                1        1      2  \n3            4                3                7        1      2  \n4            1                3                1        1      2  ",
      "text/html": "<div>\n<style scoped>\n    .dataframe tbody tr th:only-of-type {\n        vertical-align: middle;\n    }\n\n    .dataframe tbody tr th {\n        vertical-align: top;\n    }\n\n    .dataframe thead th {\n        text-align: right;\n    }\n</style>\n<table border=\"1\" class=\"dataframe\">\n  <thead>\n    <tr style=\"text-align: right;\">\n      <th></th>\n      <th>Sample code number</th>\n      <th>Clump Thickness</th>\n      <th>Uniformity of Cell Size</th>\n      <th>Uniformity of Cell Shape</th>\n      <th>Marginal Adhesion</th>\n      <th>Single Epithelial Cell Size</th>\n      <th>Bare Nuclei</th>\n      <th>Bland Chromatin</th>\n      <th>Normal Nucleoli</th>\n      <th>Mitoses</th>\n      <th>Class</th>\n    </tr>\n  </thead>\n  <tbody>\n    <tr>\n      <th>0</th>\n      <td>1000025</td>\n      <td>5</td>\n      <td>1</td>\n      <td>1</td>\n      <td>1</td>\n      <td>2</td>\n      <td>1</td>\n      <td>3</td>\n      <td>1</td>\n      <td>1</td>\n      <td>2</td>\n    </tr>\n    <tr>\n      <th>1</th>\n      <td>1002945</td>\n      <td>5</td>\n      <td>4</td>\n      <td>4</td>\n      <td>5</td>\n      <td>7</td>\n      <td>10</td>\n      <td>3</td>\n      <td>2</td>\n      <td>1</td>\n      <td>2</td>\n    </tr>\n    <tr>\n      <th>2</th>\n      <td>1015425</td>\n      <td>3</td>\n      <td>1</td>\n      <td>1</td>\n      <td>1</td>\n      <td>2</td>\n      <td>2</td>\n      <td>3</td>\n      <td>1</td>\n      <td>1</td>\n      <td>2</td>\n    </tr>\n    <tr>\n      <th>3</th>\n      <td>1016277</td>\n      <td>6</td>\n      <td>8</td>\n      <td>8</td>\n      <td>1</td>\n      <td>3</td>\n      <td>4</td>\n      <td>3</td>\n      <td>7</td>\n      <td>1</td>\n      <td>2</td>\n    </tr>\n    <tr>\n      <th>4</th>\n      <td>1017023</td>\n      <td>4</td>\n      <td>1</td>\n      <td>1</td>\n      <td>3</td>\n      <td>2</td>\n      <td>1</td>\n      <td>3</td>\n      <td>1</td>\n      <td>1</td>\n      <td>2</td>\n    </tr>\n  </tbody>\n</table>\n</div>"
     },
     "metadata": {}
    }
   ],
   "source": [
    "import pandas as pd\n",
    "import numpy as np\n",
    "\n",
    "# The dataset is about breast cancer, target is benign(2) or malignant(4)\n",
    "df = pd.read_csv('../../../data/clean/Data_XGBoost.csv')\n",
    "display(df.head())\n",
    "x = df.iloc[:, :-1].values\n",
    "y = df.iloc[:, -1].values"
   ]
  },
  {
   "source": [
    "---\n",
    "<h2>2. Splitting the Dataset</h2>"
   ],
   "cell_type": "markdown",
   "metadata": {}
  },
  {
   "cell_type": "code",
   "execution_count": 2,
   "metadata": {
    "tags": []
   },
   "outputs": [
    {
     "output_type": "stream",
     "name": "stdout",
     "text": "train dataset size : 546 observations\ntest dataset size : 137 observations\n"
    }
   ],
   "source": [
    "from sklearn.model_selection import train_test_split\n",
    "\n",
    "x_train, x_test, y_train, y_test = train_test_split(x, y, test_size=0.2, random_state=0)\n",
    "print(\"train dataset size : {} observations\\ntest dataset size : {} observations\".format(x_train.shape[0], x_test.shape[0]))"
   ]
  },
  {
   "source": [
    "---\n",
    "<h2>3. Training the Model with Train Dataset [CatBoost <a href=\"https://catboost.ai/\">source</a>]</h2>\n",
    "<ul style=\"font-size:15px\">\n",
    "    <li>CatBoost is an algorithm for gradient boosting on decision trees\n",
    "    <li>CatBoost has special feature which is <strong>self-tuning</strong>, means it does not require to be tuned\n",
    "    <li>CatBoost can handle categorical features easily, so we do not have to pre-process or spend time and effort turning it to numbers\n",
    "    <li>CatBoost can be used for regression (CatBoostRegressor) or classification (CatBoostClassifier) model\n",
    "</ul>"
   ],
   "cell_type": "markdown",
   "metadata": {}
  },
  {
   "cell_type": "code",
   "execution_count": 3,
   "metadata": {
    "tags": [
     "outputPrepend"
    ]
   },
   "outputs": [
    {
     "output_type": "stream",
     "name": "stdout",
     "text": "emaining: 534ms\n616:\tlearn: 0.0205628\ttotal: 858ms\tremaining: 532ms\n617:\tlearn: 0.0205132\ttotal: 859ms\tremaining: 531ms\n618:\tlearn: 0.0204583\ttotal: 861ms\tremaining: 530ms\n619:\tlearn: 0.0204181\ttotal: 862ms\tremaining: 528ms\n620:\tlearn: 0.0203960\ttotal: 864ms\tremaining: 527ms\n621:\tlearn: 0.0203647\ttotal: 865ms\tremaining: 526ms\n622:\tlearn: 0.0203238\ttotal: 866ms\tremaining: 524ms\n623:\tlearn: 0.0202722\ttotal: 867ms\tremaining: 523ms\n624:\tlearn: 0.0202170\ttotal: 868ms\tremaining: 521ms\n625:\tlearn: 0.0202039\ttotal: 869ms\tremaining: 519ms\n626:\tlearn: 0.0201620\ttotal: 870ms\tremaining: 518ms\n627:\tlearn: 0.0201252\ttotal: 871ms\tremaining: 516ms\n628:\tlearn: 0.0200745\ttotal: 872ms\tremaining: 515ms\n629:\tlearn: 0.0200285\ttotal: 874ms\tremaining: 513ms\n630:\tlearn: 0.0199697\ttotal: 875ms\tremaining: 512ms\n631:\tlearn: 0.0199337\ttotal: 876ms\tremaining: 510ms\n632:\tlearn: 0.0198978\ttotal: 878ms\tremaining: 509ms\n633:\tlearn: 0.0198646\ttotal: 879ms\tremaining: 507ms\n634:\tlearn: 0.0197812\ttotal: 880ms\tremaining: 506ms\n635:\tlearn: 0.0197467\ttotal: 881ms\tremaining: 504ms\n636:\tlearn: 0.0197062\ttotal: 883ms\tremaining: 503ms\n637:\tlearn: 0.0196460\ttotal: 884ms\tremaining: 501ms\n638:\tlearn: 0.0196117\ttotal: 885ms\tremaining: 500ms\n639:\tlearn: 0.0195963\ttotal: 886ms\tremaining: 498ms\n640:\tlearn: 0.0195688\ttotal: 887ms\tremaining: 497ms\n641:\tlearn: 0.0195460\ttotal: 889ms\tremaining: 496ms\n642:\tlearn: 0.0194856\ttotal: 890ms\tremaining: 494ms\n643:\tlearn: 0.0194580\ttotal: 891ms\tremaining: 493ms\n644:\tlearn: 0.0193905\ttotal: 892ms\tremaining: 491ms\n645:\tlearn: 0.0193439\ttotal: 894ms\tremaining: 490ms\n646:\tlearn: 0.0192938\ttotal: 895ms\tremaining: 488ms\n647:\tlearn: 0.0192461\ttotal: 896ms\tremaining: 487ms\n648:\tlearn: 0.0192292\ttotal: 897ms\tremaining: 485ms\n649:\tlearn: 0.0192009\ttotal: 898ms\tremaining: 484ms\n650:\tlearn: 0.0191640\ttotal: 900ms\tremaining: 482ms\n651:\tlearn: 0.0191261\ttotal: 901ms\tremaining: 481ms\n652:\tlearn: 0.0190793\ttotal: 903ms\tremaining: 480ms\n653:\tlearn: 0.0190586\ttotal: 904ms\tremaining: 478ms\n654:\tlearn: 0.0190241\ttotal: 905ms\tremaining: 477ms\n655:\tlearn: 0.0189987\ttotal: 906ms\tremaining: 475ms\n656:\tlearn: 0.0189491\ttotal: 907ms\tremaining: 474ms\n657:\tlearn: 0.0189306\ttotal: 908ms\tremaining: 472ms\n658:\tlearn: 0.0188892\ttotal: 909ms\tremaining: 471ms\n659:\tlearn: 0.0188537\ttotal: 911ms\tremaining: 469ms\n660:\tlearn: 0.0188318\ttotal: 912ms\tremaining: 468ms\n661:\tlearn: 0.0187895\ttotal: 913ms\tremaining: 466ms\n662:\tlearn: 0.0187611\ttotal: 914ms\tremaining: 465ms\n663:\tlearn: 0.0187171\ttotal: 916ms\tremaining: 464ms\n664:\tlearn: 0.0186529\ttotal: 917ms\tremaining: 462ms\n665:\tlearn: 0.0186174\ttotal: 918ms\tremaining: 461ms\n666:\tlearn: 0.0185810\ttotal: 920ms\tremaining: 459ms\n667:\tlearn: 0.0185261\ttotal: 921ms\tremaining: 458ms\n668:\tlearn: 0.0184904\ttotal: 922ms\tremaining: 456ms\n669:\tlearn: 0.0184382\ttotal: 923ms\tremaining: 455ms\n670:\tlearn: 0.0184065\ttotal: 925ms\tremaining: 454ms\n671:\tlearn: 0.0183500\ttotal: 926ms\tremaining: 452ms\n672:\tlearn: 0.0183173\ttotal: 928ms\tremaining: 451ms\n673:\tlearn: 0.0183031\ttotal: 929ms\tremaining: 449ms\n674:\tlearn: 0.0182662\ttotal: 931ms\tremaining: 448ms\n675:\tlearn: 0.0182228\ttotal: 932ms\tremaining: 447ms\n676:\tlearn: 0.0181951\ttotal: 933ms\tremaining: 445ms\n677:\tlearn: 0.0181556\ttotal: 934ms\tremaining: 444ms\n678:\tlearn: 0.0181159\ttotal: 936ms\tremaining: 442ms\n679:\tlearn: 0.0180854\ttotal: 937ms\tremaining: 441ms\n680:\tlearn: 0.0180382\ttotal: 938ms\tremaining: 439ms\n681:\tlearn: 0.0180046\ttotal: 939ms\tremaining: 438ms\n682:\tlearn: 0.0179722\ttotal: 940ms\tremaining: 436ms\n683:\tlearn: 0.0179431\ttotal: 942ms\tremaining: 435ms\n684:\tlearn: 0.0179141\ttotal: 943ms\tremaining: 434ms\n685:\tlearn: 0.0178765\ttotal: 945ms\tremaining: 432ms\n686:\tlearn: 0.0178464\ttotal: 946ms\tremaining: 431ms\n687:\tlearn: 0.0178174\ttotal: 947ms\tremaining: 430ms\n688:\tlearn: 0.0177945\ttotal: 949ms\tremaining: 428ms\n689:\tlearn: 0.0177724\ttotal: 950ms\tremaining: 427ms\n690:\tlearn: 0.0177199\ttotal: 951ms\tremaining: 425ms\n691:\tlearn: 0.0176977\ttotal: 953ms\tremaining: 424ms\n692:\tlearn: 0.0176774\ttotal: 954ms\tremaining: 423ms\n693:\tlearn: 0.0176344\ttotal: 957ms\tremaining: 422ms\n694:\tlearn: 0.0176113\ttotal: 958ms\tremaining: 421ms\n695:\tlearn: 0.0175819\ttotal: 960ms\tremaining: 419ms\n696:\tlearn: 0.0175514\ttotal: 962ms\tremaining: 418ms\n697:\tlearn: 0.0175355\ttotal: 963ms\tremaining: 417ms\n698:\tlearn: 0.0175070\ttotal: 965ms\tremaining: 416ms\n699:\tlearn: 0.0174678\ttotal: 967ms\tremaining: 415ms\n700:\tlearn: 0.0174543\ttotal: 969ms\tremaining: 413ms\n701:\tlearn: 0.0174335\ttotal: 971ms\tremaining: 412ms\n702:\tlearn: 0.0174084\ttotal: 972ms\tremaining: 411ms\n703:\tlearn: 0.0173648\ttotal: 974ms\tremaining: 409ms\n704:\tlearn: 0.0173111\ttotal: 975ms\tremaining: 408ms\n705:\tlearn: 0.0172663\ttotal: 977ms\tremaining: 407ms\n706:\tlearn: 0.0172362\ttotal: 978ms\tremaining: 405ms\n707:\tlearn: 0.0172002\ttotal: 979ms\tremaining: 404ms\n708:\tlearn: 0.0171542\ttotal: 981ms\tremaining: 403ms\n709:\tlearn: 0.0171456\ttotal: 983ms\tremaining: 402ms\n710:\tlearn: 0.0171162\ttotal: 985ms\tremaining: 400ms\n711:\tlearn: 0.0170865\ttotal: 986ms\tremaining: 399ms\n712:\tlearn: 0.0170528\ttotal: 988ms\tremaining: 398ms\n713:\tlearn: 0.0170346\ttotal: 989ms\tremaining: 396ms\n714:\tlearn: 0.0170132\ttotal: 990ms\tremaining: 395ms\n715:\tlearn: 0.0169869\ttotal: 992ms\tremaining: 393ms\n716:\tlearn: 0.0169670\ttotal: 993ms\tremaining: 392ms\n717:\tlearn: 0.0169382\ttotal: 995ms\tremaining: 391ms\n718:\tlearn: 0.0169109\ttotal: 996ms\tremaining: 389ms\n719:\tlearn: 0.0168766\ttotal: 998ms\tremaining: 388ms\n720:\tlearn: 0.0168456\ttotal: 999ms\tremaining: 387ms\n721:\tlearn: 0.0168131\ttotal: 1s\tremaining: 385ms\n722:\tlearn: 0.0167768\ttotal: 1s\tremaining: 384ms\n723:\tlearn: 0.0167389\ttotal: 1s\tremaining: 382ms\n724:\tlearn: 0.0167181\ttotal: 1s\tremaining: 381ms\n725:\tlearn: 0.0166845\ttotal: 1s\tremaining: 379ms\n726:\tlearn: 0.0166581\ttotal: 1.01s\tremaining: 378ms\n727:\tlearn: 0.0166226\ttotal: 1.01s\tremaining: 377ms\n728:\tlearn: 0.0165969\ttotal: 1.01s\tremaining: 376ms\n729:\tlearn: 0.0165614\ttotal: 1.01s\tremaining: 374ms\n730:\tlearn: 0.0165261\ttotal: 1.01s\tremaining: 373ms\n731:\tlearn: 0.0164853\ttotal: 1.01s\tremaining: 372ms\n732:\tlearn: 0.0164699\ttotal: 1.02s\tremaining: 370ms\n733:\tlearn: 0.0164228\ttotal: 1.02s\tremaining: 369ms\n734:\tlearn: 0.0163921\ttotal: 1.02s\tremaining: 367ms\n735:\tlearn: 0.0163698\ttotal: 1.02s\tremaining: 366ms\n736:\tlearn: 0.0163463\ttotal: 1.02s\tremaining: 365ms\n737:\tlearn: 0.0163156\ttotal: 1.02s\tremaining: 363ms\n738:\tlearn: 0.0162826\ttotal: 1.02s\tremaining: 362ms\n739:\tlearn: 0.0162599\ttotal: 1.03s\tremaining: 361ms\n740:\tlearn: 0.0162130\ttotal: 1.03s\tremaining: 359ms\n741:\tlearn: 0.0161603\ttotal: 1.03s\tremaining: 358ms\n742:\tlearn: 0.0161392\ttotal: 1.03s\tremaining: 356ms\n743:\tlearn: 0.0161112\ttotal: 1.03s\tremaining: 355ms\n744:\tlearn: 0.0160458\ttotal: 1.03s\tremaining: 353ms\n745:\tlearn: 0.0160278\ttotal: 1.03s\tremaining: 352ms\n746:\tlearn: 0.0159903\ttotal: 1.03s\tremaining: 351ms\n747:\tlearn: 0.0159526\ttotal: 1.04s\tremaining: 349ms\n748:\tlearn: 0.0159197\ttotal: 1.04s\tremaining: 348ms\n749:\tlearn: 0.0158791\ttotal: 1.04s\tremaining: 347ms\n750:\tlearn: 0.0158577\ttotal: 1.04s\tremaining: 345ms\n751:\tlearn: 0.0158244\ttotal: 1.04s\tremaining: 344ms\n752:\tlearn: 0.0157941\ttotal: 1.04s\tremaining: 342ms\n753:\tlearn: 0.0157562\ttotal: 1.04s\tremaining: 341ms\n754:\tlearn: 0.0157245\ttotal: 1.05s\tremaining: 340ms\n755:\tlearn: 0.0156832\ttotal: 1.05s\tremaining: 338ms\n756:\tlearn: 0.0156630\ttotal: 1.05s\tremaining: 337ms\n757:\tlearn: 0.0156447\ttotal: 1.05s\tremaining: 336ms\n758:\tlearn: 0.0156096\ttotal: 1.05s\tremaining: 334ms\n759:\tlearn: 0.0155861\ttotal: 1.05s\tremaining: 333ms\n760:\tlearn: 0.0155508\ttotal: 1.05s\tremaining: 331ms\n761:\tlearn: 0.0155289\ttotal: 1.05s\tremaining: 330ms\n762:\tlearn: 0.0154729\ttotal: 1.06s\tremaining: 328ms\n763:\tlearn: 0.0154546\ttotal: 1.06s\tremaining: 327ms\n764:\tlearn: 0.0154191\ttotal: 1.06s\tremaining: 325ms\n765:\tlearn: 0.0153974\ttotal: 1.06s\tremaining: 324ms\n766:\tlearn: 0.0153610\ttotal: 1.06s\tremaining: 323ms\n767:\tlearn: 0.0153366\ttotal: 1.06s\tremaining: 321ms\n768:\tlearn: 0.0153060\ttotal: 1.06s\tremaining: 320ms\n769:\tlearn: 0.0152756\ttotal: 1.06s\tremaining: 318ms\n770:\tlearn: 0.0152481\ttotal: 1.07s\tremaining: 317ms\n771:\tlearn: 0.0152006\ttotal: 1.07s\tremaining: 315ms\n772:\tlearn: 0.0151683\ttotal: 1.07s\tremaining: 314ms\n773:\tlearn: 0.0151480\ttotal: 1.07s\tremaining: 312ms\n774:\tlearn: 0.0151171\ttotal: 1.07s\tremaining: 311ms\n775:\tlearn: 0.0151024\ttotal: 1.07s\tremaining: 310ms\n776:\tlearn: 0.0150769\ttotal: 1.07s\tremaining: 308ms\n777:\tlearn: 0.0150542\ttotal: 1.07s\tremaining: 307ms\n778:\tlearn: 0.0150157\ttotal: 1.08s\tremaining: 305ms\n779:\tlearn: 0.0149974\ttotal: 1.08s\tremaining: 304ms\n780:\tlearn: 0.0149749\ttotal: 1.08s\tremaining: 303ms\n781:\tlearn: 0.0149444\ttotal: 1.08s\tremaining: 301ms\n782:\tlearn: 0.0149131\ttotal: 1.08s\tremaining: 300ms\n783:\tlearn: 0.0148636\ttotal: 1.08s\tremaining: 298ms\n784:\tlearn: 0.0148463\ttotal: 1.08s\tremaining: 297ms\n785:\tlearn: 0.0148031\ttotal: 1.08s\tremaining: 296ms\n786:\tlearn: 0.0147857\ttotal: 1.09s\tremaining: 294ms\n787:\tlearn: 0.0147584\ttotal: 1.09s\tremaining: 293ms\n788:\tlearn: 0.0147423\ttotal: 1.09s\tremaining: 291ms\n789:\tlearn: 0.0147047\ttotal: 1.09s\tremaining: 290ms\n790:\tlearn: 0.0146426\ttotal: 1.09s\tremaining: 289ms\n791:\tlearn: 0.0146004\ttotal: 1.09s\tremaining: 287ms\n792:\tlearn: 0.0145552\ttotal: 1.09s\tremaining: 286ms\n793:\tlearn: 0.0145329\ttotal: 1.09s\tremaining: 284ms\n794:\tlearn: 0.0145095\ttotal: 1.1s\tremaining: 283ms\n795:\tlearn: 0.0144744\ttotal: 1.1s\tremaining: 281ms\n796:\tlearn: 0.0144501\ttotal: 1.1s\tremaining: 280ms\n797:\tlearn: 0.0144337\ttotal: 1.1s\tremaining: 278ms\n798:\tlearn: 0.0144157\ttotal: 1.1s\tremaining: 277ms\n799:\tlearn: 0.0143948\ttotal: 1.1s\tremaining: 276ms\n800:\tlearn: 0.0143803\ttotal: 1.1s\tremaining: 274ms\n801:\tlearn: 0.0143645\ttotal: 1.11s\tremaining: 273ms\n802:\tlearn: 0.0143394\ttotal: 1.11s\tremaining: 272ms\n803:\tlearn: 0.0143171\ttotal: 1.11s\tremaining: 270ms\n804:\tlearn: 0.0142865\ttotal: 1.11s\tremaining: 269ms\n805:\tlearn: 0.0142627\ttotal: 1.11s\tremaining: 267ms\n806:\tlearn: 0.0142378\ttotal: 1.11s\tremaining: 266ms\n807:\tlearn: 0.0142257\ttotal: 1.11s\tremaining: 265ms\n808:\tlearn: 0.0142006\ttotal: 1.11s\tremaining: 263ms\n809:\tlearn: 0.0141676\ttotal: 1.11s\tremaining: 262ms\n810:\tlearn: 0.0141419\ttotal: 1.12s\tremaining: 260ms\n811:\tlearn: 0.0141047\ttotal: 1.12s\tremaining: 259ms\n812:\tlearn: 0.0140825\ttotal: 1.12s\tremaining: 258ms\n813:\tlearn: 0.0140691\ttotal: 1.12s\tremaining: 256ms\n814:\tlearn: 0.0140449\ttotal: 1.12s\tremaining: 255ms\n815:\tlearn: 0.0140106\ttotal: 1.12s\tremaining: 253ms\n816:\tlearn: 0.0139993\ttotal: 1.13s\tremaining: 252ms\n817:\tlearn: 0.0139771\ttotal: 1.13s\tremaining: 251ms\n818:\tlearn: 0.0139448\ttotal: 1.13s\tremaining: 249ms\n819:\tlearn: 0.0139074\ttotal: 1.13s\tremaining: 248ms\n820:\tlearn: 0.0138799\ttotal: 1.13s\tremaining: 246ms\n821:\tlearn: 0.0138565\ttotal: 1.13s\tremaining: 245ms\n822:\tlearn: 0.0138243\ttotal: 1.13s\tremaining: 244ms\n823:\tlearn: 0.0137981\ttotal: 1.13s\tremaining: 242ms\n824:\tlearn: 0.0137727\ttotal: 1.14s\tremaining: 241ms\n825:\tlearn: 0.0137500\ttotal: 1.14s\tremaining: 240ms\n826:\tlearn: 0.0137059\ttotal: 1.14s\tremaining: 238ms\n827:\tlearn: 0.0136828\ttotal: 1.14s\tremaining: 237ms\n828:\tlearn: 0.0136500\ttotal: 1.14s\tremaining: 235ms\n829:\tlearn: 0.0136338\ttotal: 1.14s\tremaining: 234ms\n830:\tlearn: 0.0136014\ttotal: 1.14s\tremaining: 232ms\n831:\tlearn: 0.0135641\ttotal: 1.14s\tremaining: 231ms\n832:\tlearn: 0.0135581\ttotal: 1.14s\tremaining: 230ms\n833:\tlearn: 0.0135303\ttotal: 1.15s\tremaining: 228ms\n834:\tlearn: 0.0135042\ttotal: 1.15s\tremaining: 227ms\n835:\tlearn: 0.0134762\ttotal: 1.15s\tremaining: 225ms\n836:\tlearn: 0.0134617\ttotal: 1.15s\tremaining: 224ms\n837:\tlearn: 0.0134297\ttotal: 1.15s\tremaining: 223ms\n838:\tlearn: 0.0134183\ttotal: 1.15s\tremaining: 221ms\n839:\tlearn: 0.0133976\ttotal: 1.15s\tremaining: 220ms\n840:\tlearn: 0.0133838\ttotal: 1.15s\tremaining: 218ms\n841:\tlearn: 0.0133619\ttotal: 1.16s\tremaining: 217ms\n842:\tlearn: 0.0133460\ttotal: 1.16s\tremaining: 215ms\n843:\tlearn: 0.0133231\ttotal: 1.16s\tremaining: 214ms\n844:\tlearn: 0.0133046\ttotal: 1.16s\tremaining: 213ms\n845:\tlearn: 0.0132869\ttotal: 1.16s\tremaining: 211ms\n846:\tlearn: 0.0132657\ttotal: 1.16s\tremaining: 210ms\n847:\tlearn: 0.0132499\ttotal: 1.16s\tremaining: 209ms\n848:\tlearn: 0.0132284\ttotal: 1.17s\tremaining: 207ms\n849:\tlearn: 0.0132090\ttotal: 1.17s\tremaining: 206ms\n850:\tlearn: 0.0131917\ttotal: 1.17s\tremaining: 204ms\n851:\tlearn: 0.0131760\ttotal: 1.17s\tremaining: 203ms\n852:\tlearn: 0.0131633\ttotal: 1.17s\tremaining: 202ms\n853:\tlearn: 0.0131341\ttotal: 1.17s\tremaining: 200ms\n854:\tlearn: 0.0131254\ttotal: 1.17s\tremaining: 199ms\n855:\tlearn: 0.0130891\ttotal: 1.17s\tremaining: 198ms\n856:\tlearn: 0.0130649\ttotal: 1.18s\tremaining: 196ms\n857:\tlearn: 0.0130389\ttotal: 1.18s\tremaining: 195ms\n858:\tlearn: 0.0130274\ttotal: 1.18s\tremaining: 193ms\n859:\tlearn: 0.0130076\ttotal: 1.18s\tremaining: 192ms\n860:\tlearn: 0.0129944\ttotal: 1.18s\tremaining: 191ms\n861:\tlearn: 0.0129666\ttotal: 1.18s\tremaining: 189ms\n862:\tlearn: 0.0129297\ttotal: 1.18s\tremaining: 188ms\n863:\tlearn: 0.0129148\ttotal: 1.18s\tremaining: 186ms\n864:\tlearn: 0.0128818\ttotal: 1.18s\tremaining: 185ms\n865:\tlearn: 0.0128527\ttotal: 1.19s\tremaining: 184ms\n866:\tlearn: 0.0128306\ttotal: 1.19s\tremaining: 182ms\n867:\tlearn: 0.0128159\ttotal: 1.19s\tremaining: 181ms\n868:\tlearn: 0.0127977\ttotal: 1.19s\tremaining: 180ms\n869:\tlearn: 0.0127643\ttotal: 1.19s\tremaining: 178ms\n870:\tlearn: 0.0127439\ttotal: 1.19s\tremaining: 177ms\n871:\tlearn: 0.0127247\ttotal: 1.2s\tremaining: 175ms\n872:\tlearn: 0.0127093\ttotal: 1.2s\tremaining: 174ms\n873:\tlearn: 0.0126837\ttotal: 1.2s\tremaining: 173ms\n874:\tlearn: 0.0126639\ttotal: 1.2s\tremaining: 171ms\n875:\tlearn: 0.0126535\ttotal: 1.2s\tremaining: 170ms\n876:\tlearn: 0.0126339\ttotal: 1.2s\tremaining: 168ms\n877:\tlearn: 0.0126129\ttotal: 1.2s\tremaining: 167ms\n878:\tlearn: 0.0125980\ttotal: 1.2s\tremaining: 166ms\n879:\tlearn: 0.0125769\ttotal: 1.2s\tremaining: 164ms\n880:\tlearn: 0.0125512\ttotal: 1.21s\tremaining: 163ms\n881:\tlearn: 0.0125234\ttotal: 1.21s\tremaining: 161ms\n882:\tlearn: 0.0124953\ttotal: 1.21s\tremaining: 160ms\n883:\tlearn: 0.0124780\ttotal: 1.21s\tremaining: 159ms\n884:\tlearn: 0.0124626\ttotal: 1.21s\tremaining: 157ms\n885:\tlearn: 0.0124370\ttotal: 1.21s\tremaining: 156ms\n886:\tlearn: 0.0124037\ttotal: 1.21s\tremaining: 154ms\n887:\tlearn: 0.0123860\ttotal: 1.21s\tremaining: 153ms\n888:\tlearn: 0.0123720\ttotal: 1.22s\tremaining: 152ms\n889:\tlearn: 0.0123576\ttotal: 1.22s\tremaining: 150ms\n890:\tlearn: 0.0123421\ttotal: 1.22s\tremaining: 149ms\n891:\tlearn: 0.0123136\ttotal: 1.22s\tremaining: 148ms\n892:\tlearn: 0.0123004\ttotal: 1.22s\tremaining: 146ms\n893:\tlearn: 0.0122714\ttotal: 1.22s\tremaining: 145ms\n894:\tlearn: 0.0122458\ttotal: 1.22s\tremaining: 143ms\n895:\tlearn: 0.0122228\ttotal: 1.22s\tremaining: 142ms\n896:\tlearn: 0.0121973\ttotal: 1.22s\tremaining: 141ms\n897:\tlearn: 0.0121741\ttotal: 1.23s\tremaining: 139ms\n898:\tlearn: 0.0121475\ttotal: 1.23s\tremaining: 138ms\n899:\tlearn: 0.0121297\ttotal: 1.23s\tremaining: 137ms\n900:\tlearn: 0.0121036\ttotal: 1.23s\tremaining: 135ms\n901:\tlearn: 0.0120731\ttotal: 1.23s\tremaining: 134ms\n902:\tlearn: 0.0120433\ttotal: 1.23s\tremaining: 132ms\n903:\tlearn: 0.0120229\ttotal: 1.23s\tremaining: 131ms\n904:\tlearn: 0.0119878\ttotal: 1.24s\tremaining: 130ms\n905:\tlearn: 0.0119730\ttotal: 1.24s\tremaining: 128ms\n906:\tlearn: 0.0119561\ttotal: 1.24s\tremaining: 127ms\n907:\tlearn: 0.0119361\ttotal: 1.24s\tremaining: 126ms\n908:\tlearn: 0.0119166\ttotal: 1.24s\tremaining: 124ms\n909:\tlearn: 0.0118844\ttotal: 1.24s\tremaining: 123ms\n910:\tlearn: 0.0118673\ttotal: 1.24s\tremaining: 122ms\n911:\tlearn: 0.0118518\ttotal: 1.25s\tremaining: 120ms\n912:\tlearn: 0.0118395\ttotal: 1.25s\tremaining: 119ms\n913:\tlearn: 0.0118125\ttotal: 1.25s\tremaining: 117ms\n914:\tlearn: 0.0117956\ttotal: 1.25s\tremaining: 116ms\n915:\tlearn: 0.0117737\ttotal: 1.25s\tremaining: 115ms\n916:\tlearn: 0.0117590\ttotal: 1.25s\tremaining: 113ms\n917:\tlearn: 0.0117326\ttotal: 1.25s\tremaining: 112ms\n918:\tlearn: 0.0117122\ttotal: 1.25s\tremaining: 111ms\n919:\tlearn: 0.0116923\ttotal: 1.26s\tremaining: 109ms\n920:\tlearn: 0.0116675\ttotal: 1.26s\tremaining: 108ms\n921:\tlearn: 0.0116557\ttotal: 1.26s\tremaining: 107ms\n922:\tlearn: 0.0116295\ttotal: 1.26s\tremaining: 105ms\n923:\tlearn: 0.0116026\ttotal: 1.26s\tremaining: 104ms\n924:\tlearn: 0.0115873\ttotal: 1.26s\tremaining: 102ms\n925:\tlearn: 0.0115568\ttotal: 1.26s\tremaining: 101ms\n926:\tlearn: 0.0115356\ttotal: 1.26s\tremaining: 99.6ms\n927:\tlearn: 0.0115151\ttotal: 1.27s\tremaining: 98.2ms\n928:\tlearn: 0.0114939\ttotal: 1.27s\tremaining: 96.8ms\n929:\tlearn: 0.0114738\ttotal: 1.27s\tremaining: 95.5ms\n930:\tlearn: 0.0114589\ttotal: 1.27s\tremaining: 94.1ms\n931:\tlearn: 0.0114461\ttotal: 1.27s\tremaining: 92.8ms\n932:\tlearn: 0.0114216\ttotal: 1.27s\tremaining: 91.4ms\n933:\tlearn: 0.0114101\ttotal: 1.27s\tremaining: 90ms\n934:\tlearn: 0.0113856\ttotal: 1.27s\tremaining: 88.6ms\n935:\tlearn: 0.0113620\ttotal: 1.27s\tremaining: 87.2ms\n936:\tlearn: 0.0113464\ttotal: 1.28s\tremaining: 85.9ms\n937:\tlearn: 0.0113382\ttotal: 1.28s\tremaining: 84.5ms\n938:\tlearn: 0.0113180\ttotal: 1.28s\tremaining: 83.1ms\n939:\tlearn: 0.0113037\ttotal: 1.28s\tremaining: 81.8ms\n940:\tlearn: 0.0112914\ttotal: 1.28s\tremaining: 80.4ms\n941:\tlearn: 0.0112798\ttotal: 1.28s\tremaining: 79.1ms\n942:\tlearn: 0.0112671\ttotal: 1.28s\tremaining: 77.7ms\n943:\tlearn: 0.0112502\ttotal: 1.29s\tremaining: 76.3ms\n944:\tlearn: 0.0112258\ttotal: 1.29s\tremaining: 75ms\n945:\tlearn: 0.0112100\ttotal: 1.29s\tremaining: 73.6ms\n946:\tlearn: 0.0111884\ttotal: 1.29s\tremaining: 72.2ms\n947:\tlearn: 0.0111650\ttotal: 1.29s\tremaining: 70.8ms\n948:\tlearn: 0.0111503\ttotal: 1.29s\tremaining: 69.5ms\n949:\tlearn: 0.0111454\ttotal: 1.29s\tremaining: 68.1ms\n950:\tlearn: 0.0111291\ttotal: 1.29s\tremaining: 66.7ms\n951:\tlearn: 0.0111135\ttotal: 1.29s\tremaining: 65.3ms\n952:\tlearn: 0.0110904\ttotal: 1.3s\tremaining: 64ms\n953:\tlearn: 0.0110798\ttotal: 1.3s\tremaining: 62.6ms\n954:\tlearn: 0.0110652\ttotal: 1.3s\tremaining: 61.2ms\n955:\tlearn: 0.0110464\ttotal: 1.3s\tremaining: 59.9ms\n956:\tlearn: 0.0110256\ttotal: 1.3s\tremaining: 58.5ms\n957:\tlearn: 0.0110141\ttotal: 1.3s\tremaining: 57.2ms\n958:\tlearn: 0.0109987\ttotal: 1.3s\tremaining: 55.8ms\n959:\tlearn: 0.0109828\ttotal: 1.31s\tremaining: 54.4ms\n960:\tlearn: 0.0109638\ttotal: 1.31s\tremaining: 53.1ms\n961:\tlearn: 0.0109472\ttotal: 1.31s\tremaining: 51.7ms\n962:\tlearn: 0.0109296\ttotal: 1.31s\tremaining: 50.3ms\n963:\tlearn: 0.0108996\ttotal: 1.31s\tremaining: 49ms\n964:\tlearn: 0.0108768\ttotal: 1.31s\tremaining: 47.6ms\n965:\tlearn: 0.0108601\ttotal: 1.31s\tremaining: 46.2ms\n966:\tlearn: 0.0108414\ttotal: 1.31s\tremaining: 44.9ms\n967:\tlearn: 0.0108229\ttotal: 1.32s\tremaining: 43.5ms\n968:\tlearn: 0.0108091\ttotal: 1.32s\tremaining: 42.1ms\n969:\tlearn: 0.0107948\ttotal: 1.32s\tremaining: 40.8ms\n970:\tlearn: 0.0107740\ttotal: 1.32s\tremaining: 39.4ms\n971:\tlearn: 0.0107635\ttotal: 1.32s\tremaining: 38ms\n972:\tlearn: 0.0107422\ttotal: 1.32s\tremaining: 36.7ms\n973:\tlearn: 0.0107289\ttotal: 1.32s\tremaining: 35.3ms\n974:\tlearn: 0.0107116\ttotal: 1.32s\tremaining: 34ms\n975:\tlearn: 0.0106986\ttotal: 1.33s\tremaining: 32.6ms\n976:\tlearn: 0.0106734\ttotal: 1.33s\tremaining: 31.3ms\n977:\tlearn: 0.0106484\ttotal: 1.33s\tremaining: 29.9ms\n978:\tlearn: 0.0106291\ttotal: 1.33s\tremaining: 28.5ms\n979:\tlearn: 0.0106188\ttotal: 1.33s\tremaining: 27.2ms\n980:\tlearn: 0.0106074\ttotal: 1.33s\tremaining: 25.8ms\n981:\tlearn: 0.0105983\ttotal: 1.33s\tremaining: 24.5ms\n982:\tlearn: 0.0105700\ttotal: 1.33s\tremaining: 23.1ms\n983:\tlearn: 0.0105455\ttotal: 1.34s\tremaining: 21.7ms\n984:\tlearn: 0.0105253\ttotal: 1.34s\tremaining: 20.4ms\n985:\tlearn: 0.0104989\ttotal: 1.34s\tremaining: 19ms\n986:\tlearn: 0.0104714\ttotal: 1.34s\tremaining: 17.7ms\n987:\tlearn: 0.0104613\ttotal: 1.34s\tremaining: 16.3ms\n988:\tlearn: 0.0104456\ttotal: 1.34s\tremaining: 15ms\n989:\tlearn: 0.0104323\ttotal: 1.35s\tremaining: 13.6ms\n990:\tlearn: 0.0104126\ttotal: 1.35s\tremaining: 12.2ms\n991:\tlearn: 0.0103948\ttotal: 1.35s\tremaining: 10.9ms\n992:\tlearn: 0.0103752\ttotal: 1.35s\tremaining: 9.53ms\n993:\tlearn: 0.0103629\ttotal: 1.35s\tremaining: 8.16ms\n994:\tlearn: 0.0103483\ttotal: 1.35s\tremaining: 6.8ms\n995:\tlearn: 0.0103262\ttotal: 1.35s\tremaining: 5.44ms\n996:\tlearn: 0.0103047\ttotal: 1.36s\tremaining: 4.08ms\n997:\tlearn: 0.0102888\ttotal: 1.36s\tremaining: 2.72ms\n998:\tlearn: 0.0102625\ttotal: 1.36s\tremaining: 1.36ms\n999:\tlearn: 0.0102365\ttotal: 1.36s\tremaining: 0us\n"
    },
    {
     "output_type": "execute_result",
     "data": {
      "text/plain": "<catboost.core.CatBoostClassifier at 0x1e8203f1790>"
     },
     "metadata": {},
     "execution_count": 3
    }
   ],
   "source": [
    "from catboost import CatBoostClassifier\n",
    "\n",
    "cbc = CatBoostClassifier()\n",
    "cbc.fit(x_train, y_train)"
   ]
  },
  {
   "source": [
    "---\n",
    "<h2>4. Predicting the Test Dataset and Display Results</h2>"
   ],
   "cell_type": "markdown",
   "metadata": {}
  },
  {
   "cell_type": "code",
   "execution_count": 4,
   "metadata": {},
   "outputs": [
    {
     "output_type": "execute_result",
     "data": {
      "text/plain": "   y actual  y prediction\n0         2             2\n1         2             2\n2         4             4\n3         4             4\n4         2             2\n5         2             2\n6         2             2\n7         4             4\n8         2             2\n9         2             2",
      "text/html": "<div>\n<style scoped>\n    .dataframe tbody tr th:only-of-type {\n        vertical-align: middle;\n    }\n\n    .dataframe tbody tr th {\n        vertical-align: top;\n    }\n\n    .dataframe thead th {\n        text-align: right;\n    }\n</style>\n<table border=\"1\" class=\"dataframe\">\n  <thead>\n    <tr style=\"text-align: right;\">\n      <th></th>\n      <th>y actual</th>\n      <th>y prediction</th>\n    </tr>\n  </thead>\n  <tbody>\n    <tr>\n      <th>0</th>\n      <td>2</td>\n      <td>2</td>\n    </tr>\n    <tr>\n      <th>1</th>\n      <td>2</td>\n      <td>2</td>\n    </tr>\n    <tr>\n      <th>2</th>\n      <td>4</td>\n      <td>4</td>\n    </tr>\n    <tr>\n      <th>3</th>\n      <td>4</td>\n      <td>4</td>\n    </tr>\n    <tr>\n      <th>4</th>\n      <td>2</td>\n      <td>2</td>\n    </tr>\n    <tr>\n      <th>5</th>\n      <td>2</td>\n      <td>2</td>\n    </tr>\n    <tr>\n      <th>6</th>\n      <td>2</td>\n      <td>2</td>\n    </tr>\n    <tr>\n      <th>7</th>\n      <td>4</td>\n      <td>4</td>\n    </tr>\n    <tr>\n      <th>8</th>\n      <td>2</td>\n      <td>2</td>\n    </tr>\n    <tr>\n      <th>9</th>\n      <td>2</td>\n      <td>2</td>\n    </tr>\n  </tbody>\n</table>\n</div>"
     },
     "metadata": {},
     "execution_count": 4
    }
   ],
   "source": [
    "y_pred = cbc.predict(x_test)\n",
    "\n",
    "pd.DataFrame(data=np.stack((y_test, y_pred), axis=1),\n",
    "             index=None, columns=['y actual', 'y prediction'],\n",
    "             copy=False).head(10)"
   ]
  },
  {
   "source": [
    "---\n",
    "<h2>5. Making the Confusion Matrix</h2>"
   ],
   "cell_type": "markdown",
   "metadata": {}
  },
  {
   "cell_type": "code",
   "execution_count": 5,
   "metadata": {
    "tags": []
   },
   "outputs": [
    {
     "output_type": "stream",
     "name": "stdout",
     "text": "[[84  3]\n [ 0 50]]\n\nConfusion matrix result shows that:\n\t- 84 correct predictions of the class 2 (benign)        \n\t- 50 perfect correct predictions of the class 4 (malignant)\n"
    }
   ],
   "source": [
    "from sklearn.metrics import confusion_matrix\n",
    "\n",
    "print(confusion_matrix(y_test, y_pred))\n",
    "print(\"\\nConfusion matrix result shows that:\\n\\t- 84 correct predictions of the class 2 (benign)\\\n",
    "        \\n\\t- 50 perfect correct predictions of the class 4 (malignant)\")"
   ]
  },
  {
   "source": [
    "---\n",
    "<h2>6. Applying k-Fold Cross Validation</h2>"
   ],
   "cell_type": "markdown",
   "metadata": {}
  },
  {
   "cell_type": "code",
   "execution_count": 6,
   "metadata": {
    "tags": []
   },
   "outputs": [
    {
     "output_type": "stream",
     "name": "stdout",
     "text": "Accuracy: 97.26%\nStandard Deviation: 2.03%\n\nWhile the 10 accuracy is resulting from the test, they fall around between 95.23% and 99.29%. So we have actually a low Standard Deviation.\n"
    }
   ],
   "source": [
    "from sklearn.model_selection import cross_val_score\n",
    "\n",
    "acc = cross_val_score(estimator=cbc, X=x_train, y=y_train, cv=10, n_jobs=-1)\n",
    "print(\"Accuracy: {:.2f}%\".format(acc.mean()*100))\n",
    "print(\"Standard Deviation: {:.2f}%\".format(acc.std()*100))\n",
    "print(\"\\nWhile the 10 accuracy is resulting from the test, they fall around between {:.2f}% and {:.2f}%. So we have actually a low Standard Deviation.\".format((acc.mean()-acc.std())*100, (acc.mean()+acc.std())*100))"
   ]
  }
 ]
}