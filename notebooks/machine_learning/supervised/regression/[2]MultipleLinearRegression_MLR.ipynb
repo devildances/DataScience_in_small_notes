{
 "metadata": {
  "language_info": {
   "codemirror_mode": {
    "name": "ipython",
    "version": 3
   },
   "file_extension": ".py",
   "mimetype": "text/x-python",
   "name": "python",
   "nbconvert_exporter": "python",
   "pygments_lexer": "ipython3",
   "version": "3.7.7-final"
  },
  "orig_nbformat": 2,
  "kernelspec": {
   "name": "python3",
   "display_name": "Python 3"
  }
 },
 "nbformat": 4,
 "nbformat_minor": 2,
 "cells": [
  {
   "source": [
    "<img src=\"../../../../images/mlr.JPG\" style=\"background:white; display: block; margin-left: auto;margin-right: auto; width:60%\"/>"
   ],
   "cell_type": "markdown",
   "metadata": {}
  },
  {
   "source": [
    "---\n",
    "<h2>1. Importing and Transforming the Dataset</h2>"
   ],
   "cell_type": "markdown",
   "metadata": {}
  },
  {
   "cell_type": "code",
   "execution_count": 1,
   "metadata": {},
   "outputs": [
    {
     "output_type": "display_data",
     "data": {
      "text/plain": "   R&D Spend  Administration  Marketing Spend       State     Profit\n0  165349.20       136897.80        471784.10    New York  192261.83\n1  162597.70       151377.59        443898.53  California  191792.06\n2  153441.51       101145.55        407934.54     Florida  191050.39\n3  144372.41       118671.85        383199.62    New York  182901.99\n4  142107.34        91391.77        366168.42     Florida  166187.94",
      "text/html": "<div>\n<style scoped>\n    .dataframe tbody tr th:only-of-type {\n        vertical-align: middle;\n    }\n\n    .dataframe tbody tr th {\n        vertical-align: top;\n    }\n\n    .dataframe thead th {\n        text-align: right;\n    }\n</style>\n<table border=\"1\" class=\"dataframe\">\n  <thead>\n    <tr style=\"text-align: right;\">\n      <th></th>\n      <th>R&amp;D Spend</th>\n      <th>Administration</th>\n      <th>Marketing Spend</th>\n      <th>State</th>\n      <th>Profit</th>\n    </tr>\n  </thead>\n  <tbody>\n    <tr>\n      <th>0</th>\n      <td>165349.20</td>\n      <td>136897.80</td>\n      <td>471784.10</td>\n      <td>New York</td>\n      <td>192261.83</td>\n    </tr>\n    <tr>\n      <th>1</th>\n      <td>162597.70</td>\n      <td>151377.59</td>\n      <td>443898.53</td>\n      <td>California</td>\n      <td>191792.06</td>\n    </tr>\n    <tr>\n      <th>2</th>\n      <td>153441.51</td>\n      <td>101145.55</td>\n      <td>407934.54</td>\n      <td>Florida</td>\n      <td>191050.39</td>\n    </tr>\n    <tr>\n      <th>3</th>\n      <td>144372.41</td>\n      <td>118671.85</td>\n      <td>383199.62</td>\n      <td>New York</td>\n      <td>182901.99</td>\n    </tr>\n    <tr>\n      <th>4</th>\n      <td>142107.34</td>\n      <td>91391.77</td>\n      <td>366168.42</td>\n      <td>Florida</td>\n      <td>166187.94</td>\n    </tr>\n  </tbody>\n</table>\n</div>"
     },
     "metadata": {}
    }
   ],
   "source": [
    "import pandas as pd\n",
    "import numpy as np\n",
    "\n",
    "df = pd.read_csv('../../../../data/clean/50_Startups.csv')\n",
    "display(df.head())\n",
    "x = df.iloc[:, :-1]\n",
    "y = df.iloc[:, -1]"
   ]
  },
  {
   "cell_type": "code",
   "execution_count": 2,
   "metadata": {},
   "outputs": [],
   "source": [
    "from sklearn.compose import ColumnTransformer\n",
    "from sklearn.preprocessing import OneHotEncoder\n",
    "\n",
    "ct = ColumnTransformer(transformers=[('encoder', OneHotEncoder(), [-1])], remainder='passthrough', n_jobs=None, )\n",
    "x = np.array(ct.fit_transform(x)) "
   ]
  },
  {
   "source": [
    "---\n",
    "<h2>2. Splitting the Dataset</h2>"
   ],
   "cell_type": "markdown",
   "metadata": {}
  },
  {
   "cell_type": "code",
   "execution_count": 3,
   "metadata": {
    "tags": []
   },
   "outputs": [
    {
     "output_type": "stream",
     "name": "stdout",
     "text": "train dataset size : 40 observations\ntest dataset size : 10 observations\n"
    }
   ],
   "source": [
    "from sklearn.model_selection import train_test_split\n",
    "\n",
    "x_train, x_test, y_train, y_test = train_test_split(x, y, test_size=0.2, random_state=0)\n",
    "print(\"train dataset size : {} observations\\ntest dataset size : {} observations\".format(x_train.shape[0], x_test.shape[0]))"
   ]
  },
  {
   "source": [
    "---\n",
    "<h2>3. Training the Model with Training Dataset</h2>"
   ],
   "cell_type": "markdown",
   "metadata": {}
  },
  {
   "cell_type": "code",
   "execution_count": 4,
   "metadata": {
    "tags": []
   },
   "outputs": [
    {
     "output_type": "stream",
     "name": "stdout",
     "text": "intercept : 42467.529248549545\nslope : [ 8.66383692e+01 -8.72645791e+02  7.86007422e+02  7.73467193e-01\n  3.28845975e-02  3.66100259e-02]\n"
    }
   ],
   "source": [
    "from sklearn.linear_model import LinearRegression\n",
    "\n",
    "mlr = LinearRegression(fit_intercept=True, normalize=False, copy_X=True, n_jobs=-1)\n",
    "mlr.fit(x_train, y_train)\n",
    "print(\"intercept : {}\\nslope : {}\".format(mlr.intercept_, mlr.coef_))"
   ]
  },
  {
   "source": [
    "---\n",
    "<h2>4. Predicting the Test Dataset Results</h2>"
   ],
   "cell_type": "markdown",
   "metadata": {}
  },
  {
   "cell_type": "code",
   "execution_count": 5,
   "metadata": {},
   "outputs": [
    {
     "output_type": "execute_result",
     "data": {
      "text/plain": "    y actual   y prediction\n0  103282.38  103015.201598\n1  144259.40  132582.277608\n2  146121.95  132447.738452\n3   77798.83   71976.098513\n4  191050.39  178537.482211\n5  105008.31  116161.242302\n6   81229.06   67851.692097\n7   97483.56   98791.733747\n8  110352.25  113969.435330\n9  166187.94  167921.065696",
      "text/html": "<div>\n<style scoped>\n    .dataframe tbody tr th:only-of-type {\n        vertical-align: middle;\n    }\n\n    .dataframe tbody tr th {\n        vertical-align: top;\n    }\n\n    .dataframe thead th {\n        text-align: right;\n    }\n</style>\n<table border=\"1\" class=\"dataframe\">\n  <thead>\n    <tr style=\"text-align: right;\">\n      <th></th>\n      <th>y actual</th>\n      <th>y prediction</th>\n    </tr>\n  </thead>\n  <tbody>\n    <tr>\n      <th>0</th>\n      <td>103282.38</td>\n      <td>103015.201598</td>\n    </tr>\n    <tr>\n      <th>1</th>\n      <td>144259.40</td>\n      <td>132582.277608</td>\n    </tr>\n    <tr>\n      <th>2</th>\n      <td>146121.95</td>\n      <td>132447.738452</td>\n    </tr>\n    <tr>\n      <th>3</th>\n      <td>77798.83</td>\n      <td>71976.098513</td>\n    </tr>\n    <tr>\n      <th>4</th>\n      <td>191050.39</td>\n      <td>178537.482211</td>\n    </tr>\n    <tr>\n      <th>5</th>\n      <td>105008.31</td>\n      <td>116161.242302</td>\n    </tr>\n    <tr>\n      <th>6</th>\n      <td>81229.06</td>\n      <td>67851.692097</td>\n    </tr>\n    <tr>\n      <th>7</th>\n      <td>97483.56</td>\n      <td>98791.733747</td>\n    </tr>\n    <tr>\n      <th>8</th>\n      <td>110352.25</td>\n      <td>113969.435330</td>\n    </tr>\n    <tr>\n      <th>9</th>\n      <td>166187.94</td>\n      <td>167921.065696</td>\n    </tr>\n  </tbody>\n</table>\n</div>"
     },
     "metadata": {},
     "execution_count": 5
    }
   ],
   "source": [
    "y_pred = mlr.predict(x_test)\n",
    "pd.DataFrame(data=np.stack((y_test.values, y_pred), axis=1),\n",
    "             index=None, columns=['y actual', 'y prediction'],\n",
    "             copy=False)"
   ]
  }
 ]
}