{
 "metadata": {
  "language_info": {
   "codemirror_mode": {
    "name": "ipython",
    "version": 3
   },
   "file_extension": ".py",
   "mimetype": "text/x-python",
   "name": "python",
   "nbconvert_exporter": "python",
   "pygments_lexer": "ipython3",
   "version": "3.7.7-final"
  },
  "orig_nbformat": 2,
  "kernelspec": {
   "name": "python3",
   "display_name": "Python 3"
  }
 },
 "nbformat": 4,
 "nbformat_minor": 2,
 "cells": [
  {
   "source": [
    "<img src=\"../../../../images/r2.png\" style=\"background:white; display: block; margin-left: auto;margin-right: auto; width:60%\"/>"
   ],
   "cell_type": "markdown",
   "metadata": {}
  },
  {
   "source": [
    "<p style=\"font-size:13px\">\n",
    "we compare the actual values and predicted values to calculate the accuracy of a regression model. Evaluation metrics provide a key role in the development of a model, as it provides insight to areas that require improvement.\n",
    "\n",
    "There are different model evaluation metrics, lets use MSE here to calculate the accuracy of our model based on the test set: \n",
    "<ul style=\"font-size:13px\">\n",
    "    <li><i><strong>Mean Absolute Error (MAE)</strong></i>: It is the mean of the absolute value of the errors. This is the easiest of the metrics to understand since it’s just average error.</li>\n",
    "    <li><i><strong>Mean Squared Error (MSE)</strong></i>: Mean Squared Error (MSE) is the mean of the squared error. It’s more popular than Mean absolute error because the focus is geared more towards large errors. This is due to the squared term exponentially increasing larger errors in comparison to smaller ones.</li>\n",
    "    <li><i><strong>Root Mean Squared Error (RMSE)</strong></i>: This is the square root of the Mean Square Error. </li>\n",
    "    <li><i><strong>R-squared (R2)</strong></i>: is not error, but is a popular metric for accuracy of your model. It represents how close the data are to the fitted regression line. The higher the R-squared, the better the model fits your data. Best possible score is 1.0 and it can be negative (because the model can be arbitrarily worse).</li>\n",
    "</ul>\n",
    "</p>"
   ],
   "cell_type": "markdown",
   "metadata": {}
  },
  {
   "cell_type": "code",
   "execution_count": null,
   "metadata": {},
   "outputs": [],
   "source": [
    "from sklearn.metrics import r2_score\n",
    "\n",
    "print(\"Mean Absolute Error (MAE): %.2f\" % np.mean(np.absolute(y_test - y_pred)))\n",
    "print(\"Residual sum of squares (MSE): %.2f\" % np.mean((y_test - y_pred) ** 2))\n",
    "print(\"Root MSE (RMSE): %.2f\" % (np.mean((y_test - y_pred) ** 2))**0.5)\n",
    "print(\"R2-score: %.2f\" % r2_score(y_test , y_pred) )"
   ]
  },
  {
   "source": [
    "### explained variance regression score:\n",
    "#### If $\\hat{y}$ is the estimated target output, y the corresponding (correct) target output, and Var is Variance, the square of the standard deviation, then the explained variance is estimated as follow:\n",
    "\n",
    "### $\\texttt{explainedVariance}(y, \\hat{y}) = 1 - \\frac{Var\\{ y - \\hat{y}\\}}{Var\\{y\\}}$  \n",
    "### The best possible score is 1.0, lower values are worse."
   ],
   "cell_type": "markdown",
   "metadata": {}
  },
  {
   "cell_type": "code",
   "execution_count": null,
   "metadata": {},
   "outputs": [],
   "source": [
    "from sklearn.linear_model import LinearRegression\n",
    "\n",
    "lr = LinearRegression()\n",
    "print('Variance score: %.2f' % lr.score(x, y))"
   ]
  },
  {
   "source": [
    "---\n",
    "<h1>REGRESSION MODEL SELECTION</h1>"
   ],
   "cell_type": "markdown",
   "metadata": {}
  },
  {
   "cell_type": "code",
   "execution_count": 1,
   "metadata": {
    "tags": []
   },
   "outputs": [
    {
     "output_type": "stream",
     "name": "stdout",
     "text": "AT : Engine temperature\nV  : Exhaust vacuum\nAP : Presure\nRH: Relative humidity\nPE : Energy output\n\n"
    },
    {
     "output_type": "display_data",
     "data": {
      "text/plain": "      AT      V       AP     RH      PE\n0  14.96  41.76  1024.07  73.17  463.26\n1  25.18  62.96  1020.04  59.08  444.37\n2   5.11  39.40  1012.16  92.14  488.56\n3  20.86  57.32  1010.24  76.64  446.48\n4  10.82  37.50  1009.23  96.62  473.90",
      "text/html": "<div>\n<style scoped>\n    .dataframe tbody tr th:only-of-type {\n        vertical-align: middle;\n    }\n\n    .dataframe tbody tr th {\n        vertical-align: top;\n    }\n\n    .dataframe thead th {\n        text-align: right;\n    }\n</style>\n<table border=\"1\" class=\"dataframe\">\n  <thead>\n    <tr style=\"text-align: right;\">\n      <th></th>\n      <th>AT</th>\n      <th>V</th>\n      <th>AP</th>\n      <th>RH</th>\n      <th>PE</th>\n    </tr>\n  </thead>\n  <tbody>\n    <tr>\n      <th>0</th>\n      <td>14.96</td>\n      <td>41.76</td>\n      <td>1024.07</td>\n      <td>73.17</td>\n      <td>463.26</td>\n    </tr>\n    <tr>\n      <th>1</th>\n      <td>25.18</td>\n      <td>62.96</td>\n      <td>1020.04</td>\n      <td>59.08</td>\n      <td>444.37</td>\n    </tr>\n    <tr>\n      <th>2</th>\n      <td>5.11</td>\n      <td>39.40</td>\n      <td>1012.16</td>\n      <td>92.14</td>\n      <td>488.56</td>\n    </tr>\n    <tr>\n      <th>3</th>\n      <td>20.86</td>\n      <td>57.32</td>\n      <td>1010.24</td>\n      <td>76.64</td>\n      <td>446.48</td>\n    </tr>\n    <tr>\n      <th>4</th>\n      <td>10.82</td>\n      <td>37.50</td>\n      <td>1009.23</td>\n      <td>96.62</td>\n      <td>473.90</td>\n    </tr>\n  </tbody>\n</table>\n</div>"
     },
     "metadata": {}
    }
   ],
   "source": [
    "import pandas as pd\n",
    "import numpy as np\n",
    "\n",
    "df = pd.read_csv('../../../../data/clean/Data.csv')\n",
    "print(\"AT : Engine temperature\\nV  : Exhaust vacuum\\nAP : Presure\\nRH: Relative humidity\\nPE : Energy output\\n\")\n",
    "display(df.head())\n",
    "x = df.iloc[:, 1:-1].values\n",
    "y = df.iloc[:, -1].values\n",
    "y_transpose = df.iloc[:, -1].values.reshape(len(df.iloc[:, -1].values),1) # transform y to 2D array like x variable"
   ]
  },
  {
   "cell_type": "code",
   "execution_count": 2,
   "metadata": {},
   "outputs": [],
   "source": [
    "from sklearn.model_selection import train_test_split\n",
    "\n",
    "x_train, x_test, y_train, y_test = train_test_split(x, y, test_size = 0.2, random_state = 0)\n",
    "x_transpose_train, x_transpose_test, y_transpose_train, y_transpose_test = train_test_split(x, y_transpose, test_size = 0.2, random_state = 0)"
   ]
  },
  {
   "cell_type": "code",
   "execution_count": 3,
   "metadata": {},
   "outputs": [],
   "source": [
    "from sklearn.preprocessing import PolynomialFeatures\n",
    "\n",
    "pf = PolynomialFeatures(degree=4, include_bias=True, order='C').fit(X=x_train, y=None)\n",
    "x_train_poly = pf.transform(X=x_train)"
   ]
  },
  {
   "cell_type": "code",
   "execution_count": 4,
   "metadata": {},
   "outputs": [],
   "source": [
    "from sklearn.preprocessing import StandardScaler\n",
    "\n",
    "stand_x = StandardScaler().fit(x_transpose_train)\n",
    "stand_y = StandardScaler().fit(y_transpose_train)\n",
    "x_ss = stand_x.transform(x_transpose_train)\n",
    "y_ss = stand_y.transform(y_transpose_train)"
   ]
  },
  {
   "cell_type": "code",
   "execution_count": 5,
   "metadata": {},
   "outputs": [
    {
     "output_type": "execute_result",
     "data": {
      "text/plain": "RandomForestRegressor(n_estimators=10, random_state=0)"
     },
     "metadata": {},
     "execution_count": 5
    }
   ],
   "source": [
    "from sklearn.linear_model import LinearRegression\n",
    "from sklearn.svm import SVR\n",
    "from sklearn.tree import DecisionTreeRegressor\n",
    "from sklearn.ensemble import RandomForestRegressor\n",
    "\n",
    "mlr = LinearRegression(fit_intercept=True, normalize=False, copy_X=True, n_jobs=-1)\n",
    "mlr.fit(x_train, y_train)\n",
    "\n",
    "pr = LinearRegression(fit_intercept=True, normalize=False, copy_X=True, n_jobs=-1)\n",
    "pr.fit(x_train_poly, y_train)\n",
    "\n",
    "svr_reg = SVR(kernel='rbf', degree=3, gamma=\"scale\",\n",
    "              coef0=0.0, tol=0.001, C=1.0, epsilon=0.1)\n",
    "svr_reg.fit(x_ss, y_ss)\n",
    "\n",
    "\n",
    "dtr = DecisionTreeRegressor(random_state=0)\n",
    "dtr.fit(x_train, y_train)\n",
    "\n",
    "\n",
    "rfr = RandomForestRegressor(n_estimators=10, random_state=0)\n",
    "rfr.fit(x_train, y_train)"
   ]
  },
  {
   "cell_type": "code",
   "execution_count": 6,
   "metadata": {},
   "outputs": [
    {
     "output_type": "display_data",
     "data": {
      "text/plain": "           Model  R2_Score\n0    MultiLinear  0.803329\n1     Polynomial  0.841872\n2  SupportVector  0.849425\n3   DecisionTree  0.879267\n4   RandomForest  0.935001",
      "text/html": "<div>\n<style scoped>\n    .dataframe tbody tr th:only-of-type {\n        vertical-align: middle;\n    }\n\n    .dataframe tbody tr th {\n        vertical-align: top;\n    }\n\n    .dataframe thead th {\n        text-align: right;\n    }\n</style>\n<table border=\"1\" class=\"dataframe\">\n  <thead>\n    <tr style=\"text-align: right;\">\n      <th></th>\n      <th>Model</th>\n      <th>R2_Score</th>\n    </tr>\n  </thead>\n  <tbody>\n    <tr>\n      <th>0</th>\n      <td>MultiLinear</td>\n      <td>0.803329</td>\n    </tr>\n    <tr>\n      <th>1</th>\n      <td>Polynomial</td>\n      <td>0.841872</td>\n    </tr>\n    <tr>\n      <th>2</th>\n      <td>SupportVector</td>\n      <td>0.849425</td>\n    </tr>\n    <tr>\n      <th>3</th>\n      <td>DecisionTree</td>\n      <td>0.879267</td>\n    </tr>\n    <tr>\n      <th>4</th>\n      <td>RandomForest</td>\n      <td>0.935001</td>\n    </tr>\n  </tbody>\n</table>\n</div>"
     },
     "metadata": {}
    }
   ],
   "source": [
    "from sklearn.metrics import r2_score\n",
    "\n",
    "all_scores = {\"Model\":[], \"R2_Score\":[]}\n",
    "\n",
    "y_pred_mlr = mlr.predict(x_test)\n",
    "r2_mlr = r2_score(y_test, y_pred_mlr)\n",
    "all_scores[\"Model\"].append(\"MultiLinear\")\n",
    "all_scores[\"R2_Score\"].append(r2_mlr)\n",
    "\n",
    "y_pred_pr = pr.predict(pf.transform(X=x_test))\n",
    "r2_pr = r2_score(y_test, y_pred_pr)\n",
    "all_scores[\"Model\"].append(\"Polynomial\")\n",
    "all_scores[\"R2_Score\"].append(r2_pr)\n",
    "\n",
    "y_pred_svr = svr_reg.predict(stand_x.transform(x_transpose_test))\n",
    "r2_svr = r2_score(y_transpose_test, stand_y.inverse_transform(y_pred_svr))\n",
    "all_scores[\"Model\"].append(\"SupportVector\")\n",
    "all_scores[\"R2_Score\"].append(r2_svr)\n",
    "\n",
    "y_pred_dtr = dtr.predict(x_test)\n",
    "r2_dtr = r2_score(y_test, y_pred_dtr)\n",
    "all_scores[\"Model\"].append(\"DecisionTree\")\n",
    "all_scores[\"R2_Score\"].append(r2_dtr)\n",
    "\n",
    "y_pred_rfr = rfr.predict(x_test)\n",
    "r2_rfr = r2_score(y_test, y_pred_rfr)\n",
    "all_scores[\"Model\"].append(\"RandomForest\")\n",
    "all_scores[\"R2_Score\"].append(r2_rfr)\n",
    "\n",
    "display(pd.DataFrame(all_scores))"
   ]
  }
 ]
}