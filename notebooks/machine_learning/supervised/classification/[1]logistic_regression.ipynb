{
 "cells": [
  {
   "cell_type": "markdown",
   "metadata": {},
   "source": [
    "<img src=\"../../../../images/logreg.png\" style=\"background:white; display: block; margin-left: auto;margin-right: auto; width:60%\"/>"
   ]
  },
  {
   "cell_type": "markdown",
   "metadata": {},
   "source": [
    "---\n",
    "<h2>1. Importing the Dataset</h2>"
   ]
  },
  {
   "cell_type": "code",
   "execution_count": 1,
   "metadata": {},
   "outputs": [
    {
     "output_type": "display_data",
     "data": {
      "text/plain": "   Age  EstimatedSalary  Purchased\n0   19            19000          0\n1   35            20000          0\n2   26            43000          0\n3   27            57000          0\n4   19            76000          0",
      "text/html": "<div>\n<style scoped>\n    .dataframe tbody tr th:only-of-type {\n        vertical-align: middle;\n    }\n\n    .dataframe tbody tr th {\n        vertical-align: top;\n    }\n\n    .dataframe thead th {\n        text-align: right;\n    }\n</style>\n<table border=\"1\" class=\"dataframe\">\n  <thead>\n    <tr style=\"text-align: right;\">\n      <th></th>\n      <th>Age</th>\n      <th>EstimatedSalary</th>\n      <th>Purchased</th>\n    </tr>\n  </thead>\n  <tbody>\n    <tr>\n      <th>0</th>\n      <td>19</td>\n      <td>19000</td>\n      <td>0</td>\n    </tr>\n    <tr>\n      <th>1</th>\n      <td>35</td>\n      <td>20000</td>\n      <td>0</td>\n    </tr>\n    <tr>\n      <th>2</th>\n      <td>26</td>\n      <td>43000</td>\n      <td>0</td>\n    </tr>\n    <tr>\n      <th>3</th>\n      <td>27</td>\n      <td>57000</td>\n      <td>0</td>\n    </tr>\n    <tr>\n      <th>4</th>\n      <td>19</td>\n      <td>76000</td>\n      <td>0</td>\n    </tr>\n  </tbody>\n</table>\n</div>"
     },
     "metadata": {}
    }
   ],
   "source": [
    "import pandas as pd\n",
    "import numpy as np\n",
    "\n",
    "df = pd.read_csv('../../../../data/clean/Social_Network_Ads.csv')\n",
    "display(df.head())\n",
    "x = df.iloc[:, :-1].values\n",
    "y = df.iloc[:, -1].values"
   ]
  },
  {
   "cell_type": "markdown",
   "metadata": {},
   "source": [
    "---\n",
    "<h2>2. Splitting the Dataset</h2>"
   ]
  },
  {
   "cell_type": "code",
   "execution_count": 2,
   "metadata": {
    "tags": []
   },
   "outputs": [
    {
     "output_type": "stream",
     "name": "stdout",
     "text": "train dataset size : 320 observations\ntest dataset size : 80 observations\n"
    }
   ],
   "source": [
    "from sklearn.model_selection import train_test_split\n",
    "\n",
    "x_train, x_test, y_train, y_test = train_test_split(x, y, test_size=0.2, random_state=42, stratify=y)\n",
    "print(\"train dataset size : {} observations\\ntest dataset size : {} observations\".format(x_train.shape[0], x_test.shape[0]))"
   ]
  },
  {
   "cell_type": "markdown",
   "metadata": {},
   "source": [
    "---\n",
    "<h2>3. Feature Scaling</h2>"
   ]
  },
  {
   "cell_type": "code",
   "execution_count": 3,
   "metadata": {},
   "outputs": [],
   "source": [
    "from sklearn.preprocessing import StandardScaler\n",
    "\n",
    "stand_x = StandardScaler().fit(x_train)\n",
    "x_ss = stand_x.transform(x_train)"
   ]
  },
  {
   "cell_type": "markdown",
   "metadata": {},
   "source": [
    "---\n",
    "<h2>4. Training the Model with Training Dataset</h2>"
   ]
  },
  {
   "cell_type": "code",
   "execution_count": 4,
   "metadata": {},
   "outputs": [
    {
     "output_type": "execute_result",
     "data": {
      "text/plain": "LogisticRegression(random_state=0)"
     },
     "metadata": {},
     "execution_count": 4
    }
   ],
   "source": [
    "from sklearn.linear_model import LogisticRegression\n",
    "\n",
    "'''\n",
    "> Here are values for penalty parameter:\n",
    "    - l1 : or L1 Lasso regularization adds an L1 penalty equal to the absolute value of the magnitude of coefficients.\n",
    "           this type is only supported by ‘liblinear’ solver.\n",
    "    - l2 (default) : or L2 Ridge regularization adds an L2 penalty equal to the square of the magnitude of coefficients.\n",
    "                     this type is supported by ‘newton-cg’, ‘sag’, ‘liblinear’ and ‘lbfgs’ solvers only.\n",
    "    - elasticnet : it combines L1 & L2 methods, but do add a hyperparameter.\n",
    "                   this type is only supported by the ‘saga’ solver.\n",
    "    - none : no regularization is applied and this type is not supported by ‘liblinear’ solver\n",
    "> There are some numerical optimizers or solver that can be used, like:\n",
    "    - newton-cg : For multiclass problems, handle L2 or no penalty\n",
    "    - lbfgs (default) : For multiclass problems, handle L2 or no penalty\n",
    "    - liblinear : For small datasets, limited to one-versus-rest schemes, handle L1 penalty, doesn't support 'none' penalty=\n",
    "    - sag : is faster for large datasets, for multiclass problems, handle L2 or no penalty\n",
    "    - saga : is faster for large datasets, for multiclass problems, handle L2 or no penalty, also handle L1 and elasticnet penalty\n",
    "> 'C' parameter indicates inverse of regularization strength which must be a positive float,\n",
    "  smaller value specify stronger regularization\n",
    "'''\n",
    "logreg = LogisticRegression(random_state=0)\n",
    "logreg.fit(x_ss, y_train)"
   ]
  },
  {
   "cell_type": "markdown",
   "metadata": {},
   "source": [
    "---\n",
    "<h2>5. Predicting the Test Dataset Results</h2>"
   ]
  },
  {
   "cell_type": "code",
   "execution_count": 5,
   "metadata": {},
   "outputs": [
    {
     "output_type": "execute_result",
     "data": {
      "text/plain": "   y actual  y prediction\n0         1             1\n1         0             0\n2         0             0\n3         0             1\n4         0             0\n5         1             1\n6         0             0\n7         1             1\n8         0             1\n9         0             0",
      "text/html": "<div>\n<style scoped>\n    .dataframe tbody tr th:only-of-type {\n        vertical-align: middle;\n    }\n\n    .dataframe tbody tr th {\n        vertical-align: top;\n    }\n\n    .dataframe thead th {\n        text-align: right;\n    }\n</style>\n<table border=\"1\" class=\"dataframe\">\n  <thead>\n    <tr style=\"text-align: right;\">\n      <th></th>\n      <th>y actual</th>\n      <th>y prediction</th>\n    </tr>\n  </thead>\n  <tbody>\n    <tr>\n      <th>0</th>\n      <td>1</td>\n      <td>1</td>\n    </tr>\n    <tr>\n      <th>1</th>\n      <td>0</td>\n      <td>0</td>\n    </tr>\n    <tr>\n      <th>2</th>\n      <td>0</td>\n      <td>0</td>\n    </tr>\n    <tr>\n      <th>3</th>\n      <td>0</td>\n      <td>1</td>\n    </tr>\n    <tr>\n      <th>4</th>\n      <td>0</td>\n      <td>0</td>\n    </tr>\n    <tr>\n      <th>5</th>\n      <td>1</td>\n      <td>1</td>\n    </tr>\n    <tr>\n      <th>6</th>\n      <td>0</td>\n      <td>0</td>\n    </tr>\n    <tr>\n      <th>7</th>\n      <td>1</td>\n      <td>1</td>\n    </tr>\n    <tr>\n      <th>8</th>\n      <td>0</td>\n      <td>1</td>\n    </tr>\n    <tr>\n      <th>9</th>\n      <td>0</td>\n      <td>0</td>\n    </tr>\n  </tbody>\n</table>\n</div>"
     },
     "metadata": {},
     "execution_count": 5
    }
   ],
   "source": [
    "y_pred = logreg.predict(stand_x.transform(x_test))\n",
    "\n",
    "pd.DataFrame(data=np.stack((y_test, y_pred), axis=1),\n",
    "             index=None, columns=['y actual', 'y prediction'],\n",
    "             copy=False).head(10)"
   ]
  },
  {
   "cell_type": "markdown",
   "metadata": {},
   "source": [
    "---\n",
    "<h2>6. Visualizing the Training and Test Set Results (uncomment all codes to see the result - warning! high res.)</h2>"
   ]
  },
  {
   "cell_type": "code",
   "execution_count": 6,
   "metadata": {
    "tags": []
   },
   "outputs": [],
   "source": [
    "import matplotlib as mpl\n",
    "import matplotlib.pyplot as plt\n",
    "from matplotlib.colors import ListedColormap\n",
    "\n",
    "mpl.style.use('ggplot')\n",
    "%matplotlib inline\n",
    "\n",
    "# ============================================= TRAINING SET =============================================\n",
    "\n",
    "# fig, ax = plt.subplots(nrows=1, ncols=1, figsize=(6,4))\n",
    "# x_set, y_set = stand_x.inverse_transform(x_ss), y_train\n",
    "# x1, x2 = np.meshgrid(np.arange(start = x_set[:,0].min() - 10,\n",
    "#                                stop = x_set[:, 0].max() + 10,\n",
    "#                                step=0.25),\n",
    "#                      np.arange(start = x_set[:,1].min() - 1000,\n",
    "#                                stop = x_set[:, 1].max() + 1000,\n",
    "#                                step=0.25)\n",
    "#                      )\n",
    "\n",
    "# ax.contourf(x1, x2,\n",
    "#                logreg.predict(stand_x.transform(np.array([x1.ravel(), x2.ravel()]).T)).reshape(x1.shape),\n",
    "#                alpha=0.75, cmap=ListedColormap(('red', 'green')))\n",
    "\n",
    "# for i, j in enumerate(np.unique(y_set)):\n",
    "#     ax.scatter(x_set[y_set==j, 0], x_set[y_set==j, 1], c=ListedColormap(('red', 'green'))(i), label=j)\n",
    "\n",
    "# ax.set_xlim(x1.min(), x1.max())\n",
    "# ax.set_ylim(x2.min(), x2.max())\n",
    "# ax.set_title(\"Training dataset\")\n",
    "# ax.set_xlabel(\"Customer Age\")\n",
    "# ax.set_ylabel(\"Customer Estimate Salary\")\n",
    "# ax.legend([\"not buy\", \"buy\"], loc=\"upper left\")\n",
    "\n",
    "# plt.show()"
   ]
  },
  {
   "cell_type": "code",
   "execution_count": 7,
   "metadata": {},
   "outputs": [],
   "source": [
    "# ============================================= TEST SET =============================================\n",
    "\n",
    "# fig, ax = plt.subplots(nrows=1, ncols=1, figsize=(6,4))\n",
    "# xt_set, yt_set = x_test, y_test\n",
    "# xt1, xt2 = np.meshgrid(np.arange(start = xt_set[:,0].min() - 10,\n",
    "#                                stop = xt_set[:, 0].max() + 10,\n",
    "#                                step=0.25),\n",
    "#                      np.arange(start = xt_set[:,1].min() - 1000,\n",
    "#                                stop = xt_set[:, 1].max() + 1000,\n",
    "#                                step=0.25)\n",
    "#                      )\n",
    "\n",
    "# ax.contourf(xt1, xt2,\n",
    "#                logreg.predict(stand_x.transform(np.array([xt1.ravel(), xt2.ravel()]).T)).reshape(xt1.shape),\n",
    "#                alpha=0.75, cmap=ListedColormap(('red', 'green')))\n",
    "\n",
    "# for i, j in enumerate(np.unique(yt_set)):\n",
    "#     ax.scatter(xt_set[yt_set==j, 0], xt_set[yt_set==j, 1], c=ListedColormap(('red', 'green'))(i), label=j)\n",
    "\n",
    "# ax.set_xlim(xt1.min(), xt1.max())\n",
    "# ax.set_ylim(xt2.min(), xt2.max())\n",
    "# ax.set_title(\"Test dataset\")\n",
    "# ax.set_xlabel(\"Customer Age\")\n",
    "# ax.set_ylabel(\"Customer Estimate Salary\")\n",
    "# ax.legend([\"not buy\", \"buy\"], loc=\"upper left\")\n",
    "\n",
    "# plt.show()"
   ]
  },
  {
   "cell_type": "markdown",
   "metadata": {},
   "source": [
    "---\n",
    "<h2>7. Making the Confusion Matrix</h2>"
   ]
  },
  {
   "cell_type": "code",
   "execution_count": 8,
   "metadata": {
    "tags": []
   },
   "outputs": [
    {
     "output_type": "stream",
     "name": "stdout",
     "text": "[[48  3]\n [10 19]]\n\nConfusion matrix result shows that:\n\t- 48 correct predictions of the class 0 (who didn't buy the product)        \n\t- 3 incorrect predictions of the class 1 (predicted as user who bought the product but in reality not to)        \n\t- 19 correct predictions of the class 1 (who bought the product)        \n\t- 10 incorrect predictions of the class 0 (predicted as user who didn't buy the product but in reality they bought the product)\n"
    }
   ],
   "source": [
    "from sklearn.metrics import confusion_matrix\n",
    "\n",
    "print(confusion_matrix(y_test, y_pred))\n",
    "print(\"\\nConfusion matrix result shows that:\\n\\t- 48 correct predictions of the class 0 (who didn\\'t buy the product)\\\n",
    "        \\n\\t- 3 incorrect predictions of the class 1 (predicted as user who bought the product but in reality not to)\\\n",
    "        \\n\\t- 19 correct predictions of the class 1 (who bought the product)\\\n",
    "        \\n\\t- 10 incorrect predictions of the class 0 (predicted as user who didn\\'t buy the product but in reality they bought the product)\")"
   ]
  },
  {
   "cell_type": "markdown",
   "metadata": {},
   "source": [
    "---\n",
    "<h2>8. Predicting with New Input</h2>"
   ]
  },
  {
   "cell_type": "code",
   "execution_count": 9,
   "metadata": {
    "tags": []
   },
   "outputs": [
    {
     "output_type": "stream",
     "name": "stdout",
     "text": "The 30 years old user with estimate salary about 87,000.00 won't buy the product\n"
    }
   ],
   "source": [
    "new_age = 30\n",
    "new_sal = 87000\n",
    "result = logreg.predict(stand_x.transform([[new_age, new_sal]]))\n",
    "\n",
    "if result:\n",
    "    print(\"The {} years old user with estimate salary about {:,.2f} will buy the product\".format(new_age, new_sal))\n",
    "else:\n",
    "    print(\"The {} years old user with estimate salary about {:,.2f} won\\'t buy the product\".format(new_age, new_sal))"
   ]
  }
 ],
 "metadata": {
  "kernelspec": {
   "display_name": "Python 3",
   "language": "python",
   "name": "python3"
  },
  "language_info": {
   "codemirror_mode": {
    "name": "ipython",
    "version": 3
   },
   "file_extension": ".py",
   "mimetype": "text/x-python",
   "name": "python",
   "nbconvert_exporter": "python",
   "pygments_lexer": "ipython3",
   "version": "3.7.7-final"
  }
 },
 "nbformat": 4,
 "nbformat_minor": 2
}