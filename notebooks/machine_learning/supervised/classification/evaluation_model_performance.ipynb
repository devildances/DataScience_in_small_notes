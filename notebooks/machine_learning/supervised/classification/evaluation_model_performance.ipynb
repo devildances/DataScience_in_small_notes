{
 "metadata": {
  "language_info": {
   "codemirror_mode": {
    "name": "ipython",
    "version": 3
   },
   "file_extension": ".py",
   "mimetype": "text/x-python",
   "name": "python",
   "nbconvert_exporter": "python",
   "pygments_lexer": "ipython3",
   "version": "3.7.7-final"
  },
  "orig_nbformat": 2,
  "kernelspec": {
   "name": "python3",
   "display_name": "Python 3"
  }
 },
 "nbformat": 4,
 "nbformat_minor": 2,
 "cells": [
  {
   "source": [
    "<img src=\"../../../../images/classifications.png\" style=\"background:white; display: block; margin-left: auto;margin-right: auto; width:80%\"/>"
   ],
   "cell_type": "markdown",
   "metadata": {}
  },
  {
   "cell_type": "code",
   "execution_count": 1,
   "metadata": {},
   "outputs": [
    {
     "output_type": "display_data",
     "data": {
      "text/plain": "   Sample code number  Clump Thickness  Uniformity of Cell Size  \\\n0             1000025                5                        1   \n1             1002945                5                        4   \n2             1015425                3                        1   \n3             1016277                6                        8   \n4             1017023                4                        1   \n\n   Uniformity of Cell Shape  Marginal Adhesion  Single Epithelial Cell Size  \\\n0                         1                  1                            2   \n1                         4                  5                            7   \n2                         1                  1                            2   \n3                         8                  1                            3   \n4                         1                  3                            2   \n\n   Bare Nuclei  Bland Chromatin  Normal Nucleoli  Mitoses  Class  \n0            1                3                1        1      2  \n1           10                3                2        1      2  \n2            2                3                1        1      2  \n3            4                3                7        1      2  \n4            1                3                1        1      2  ",
      "text/html": "<div>\n<style scoped>\n    .dataframe tbody tr th:only-of-type {\n        vertical-align: middle;\n    }\n\n    .dataframe tbody tr th {\n        vertical-align: top;\n    }\n\n    .dataframe thead th {\n        text-align: right;\n    }\n</style>\n<table border=\"1\" class=\"dataframe\">\n  <thead>\n    <tr style=\"text-align: right;\">\n      <th></th>\n      <th>Sample code number</th>\n      <th>Clump Thickness</th>\n      <th>Uniformity of Cell Size</th>\n      <th>Uniformity of Cell Shape</th>\n      <th>Marginal Adhesion</th>\n      <th>Single Epithelial Cell Size</th>\n      <th>Bare Nuclei</th>\n      <th>Bland Chromatin</th>\n      <th>Normal Nucleoli</th>\n      <th>Mitoses</th>\n      <th>Class</th>\n    </tr>\n  </thead>\n  <tbody>\n    <tr>\n      <th>0</th>\n      <td>1000025</td>\n      <td>5</td>\n      <td>1</td>\n      <td>1</td>\n      <td>1</td>\n      <td>2</td>\n      <td>1</td>\n      <td>3</td>\n      <td>1</td>\n      <td>1</td>\n      <td>2</td>\n    </tr>\n    <tr>\n      <th>1</th>\n      <td>1002945</td>\n      <td>5</td>\n      <td>4</td>\n      <td>4</td>\n      <td>5</td>\n      <td>7</td>\n      <td>10</td>\n      <td>3</td>\n      <td>2</td>\n      <td>1</td>\n      <td>2</td>\n    </tr>\n    <tr>\n      <th>2</th>\n      <td>1015425</td>\n      <td>3</td>\n      <td>1</td>\n      <td>1</td>\n      <td>1</td>\n      <td>2</td>\n      <td>2</td>\n      <td>3</td>\n      <td>1</td>\n      <td>1</td>\n      <td>2</td>\n    </tr>\n    <tr>\n      <th>3</th>\n      <td>1016277</td>\n      <td>6</td>\n      <td>8</td>\n      <td>8</td>\n      <td>1</td>\n      <td>3</td>\n      <td>4</td>\n      <td>3</td>\n      <td>7</td>\n      <td>1</td>\n      <td>2</td>\n    </tr>\n    <tr>\n      <th>4</th>\n      <td>1017023</td>\n      <td>4</td>\n      <td>1</td>\n      <td>1</td>\n      <td>3</td>\n      <td>2</td>\n      <td>1</td>\n      <td>3</td>\n      <td>1</td>\n      <td>1</td>\n      <td>2</td>\n    </tr>\n  </tbody>\n</table>\n</div>"
     },
     "metadata": {}
    }
   ],
   "source": [
    "import pandas as pd\n",
    "import numpy as np\n",
    "\n",
    "# The data is about breast cancer, each row correspond with patient\n",
    "df = pd.read_csv('../../../../data/clean/Data_Classification.csv')\n",
    "display(df.head())\n",
    "x = df.iloc[:, 1:-1].values\n",
    "y = df.iloc[:, -1].values"
   ]
  },
  {
   "cell_type": "code",
   "execution_count": 2,
   "metadata": {
    "tags": []
   },
   "outputs": [
    {
     "output_type": "stream",
     "name": "stdout",
     "text": "train dataset size : 546 observations\ntest dataset size : 137 observations\n"
    }
   ],
   "source": [
    "from sklearn.model_selection import train_test_split\n",
    "\n",
    "x_train, x_test, y_train, y_test = train_test_split(x, y, test_size=0.2, random_state=42, stratify=y)\n",
    "print(\"train dataset size : {} observations\\ntest dataset size : {} observations\".format(x_train.shape[0], x_test.shape[0]))"
   ]
  },
  {
   "cell_type": "code",
   "execution_count": 3,
   "metadata": {},
   "outputs": [],
   "source": [
    "from sklearn.preprocessing import StandardScaler\n",
    "\n",
    "stand_x = StandardScaler().fit(x_train)\n",
    "x_ss = stand_x.transform(x_train)"
   ]
  },
  {
   "cell_type": "code",
   "execution_count": 4,
   "metadata": {},
   "outputs": [
    {
     "output_type": "execute_result",
     "data": {
      "text/plain": "RandomForestClassifier(criterion='entropy', n_jobs=-1)"
     },
     "metadata": {},
     "execution_count": 4
    }
   ],
   "source": [
    "from sklearn.linear_model import LogisticRegression\n",
    "from sklearn.neighbors import KNeighborsClassifier\n",
    "from sklearn.svm import SVC\n",
    "from sklearn.naive_bayes import GaussianNB\n",
    "from sklearn.tree import DecisionTreeClassifier\n",
    "from sklearn.ensemble import RandomForestClassifier\n",
    "\n",
    "logreg = LogisticRegression(random_state=42, n_jobs=-1)\n",
    "logreg.fit(x_ss, y_train)\n",
    "\n",
    "knn = KNeighborsClassifier(n_neighbors=5, algorithm='auto', p=2, metric='minkowski', n_jobs=-1)\n",
    "knn.fit(x_ss, y_train)\n",
    "\n",
    "svm = SVC(C=1.0, kernel='rbf', gamma='scale', random_state=42)\n",
    "svm.fit(x_ss, y_train)\n",
    "\n",
    "nb = GaussianNB(priors=None, var_smoothing=1e-09)\n",
    "nb.fit(x_ss, y_train)\n",
    "\n",
    "dt = DecisionTreeClassifier(criterion='entropy')\n",
    "dt.fit(x_ss, y_train)\n",
    "\n",
    "rf = RandomForestClassifier(n_estimators=100, criterion='entropy', n_jobs=-1)\n",
    "rf.fit(x_ss, y_train)"
   ]
  },
  {
   "cell_type": "code",
   "execution_count": 5,
   "metadata": {},
   "outputs": [
    {
     "output_type": "execute_result",
     "data": {
      "text/plain": "   y_actual  LogisticRegression_prediction  KNN_prediction  \\\n0         2                              2               2   \n1         2                              2               2   \n2         2                              2               2   \n3         2                              2               2   \n4         2                              2               2   \n5         4                              4               4   \n6         2                              2               2   \n7         2                              2               2   \n8         4                              4               4   \n9         2                              2               2   \n\n   SuportVectorMachine_prediction  NaiveBayes_prediction  \\\n0                               2                      2   \n1                               2                      2   \n2                               2                      2   \n3                               2                      2   \n4                               2                      2   \n5                               4                      4   \n6                               2                      2   \n7                               2                      2   \n8                               4                      4   \n9                               2                      2   \n\n   DecisionTree_prediction  RandomForest_prediction  \n0                        2                        2  \n1                        2                        2  \n2                        2                        2  \n3                        2                        2  \n4                        2                        2  \n5                        4                        4  \n6                        2                        2  \n7                        2                        2  \n8                        4                        4  \n9                        2                        2  ",
      "text/html": "<div>\n<style scoped>\n    .dataframe tbody tr th:only-of-type {\n        vertical-align: middle;\n    }\n\n    .dataframe tbody tr th {\n        vertical-align: top;\n    }\n\n    .dataframe thead th {\n        text-align: right;\n    }\n</style>\n<table border=\"1\" class=\"dataframe\">\n  <thead>\n    <tr style=\"text-align: right;\">\n      <th></th>\n      <th>y_actual</th>\n      <th>LogisticRegression_prediction</th>\n      <th>KNN_prediction</th>\n      <th>SuportVectorMachine_prediction</th>\n      <th>NaiveBayes_prediction</th>\n      <th>DecisionTree_prediction</th>\n      <th>RandomForest_prediction</th>\n    </tr>\n  </thead>\n  <tbody>\n    <tr>\n      <th>0</th>\n      <td>2</td>\n      <td>2</td>\n      <td>2</td>\n      <td>2</td>\n      <td>2</td>\n      <td>2</td>\n      <td>2</td>\n    </tr>\n    <tr>\n      <th>1</th>\n      <td>2</td>\n      <td>2</td>\n      <td>2</td>\n      <td>2</td>\n      <td>2</td>\n      <td>2</td>\n      <td>2</td>\n    </tr>\n    <tr>\n      <th>2</th>\n      <td>2</td>\n      <td>2</td>\n      <td>2</td>\n      <td>2</td>\n      <td>2</td>\n      <td>2</td>\n      <td>2</td>\n    </tr>\n    <tr>\n      <th>3</th>\n      <td>2</td>\n      <td>2</td>\n      <td>2</td>\n      <td>2</td>\n      <td>2</td>\n      <td>2</td>\n      <td>2</td>\n    </tr>\n    <tr>\n      <th>4</th>\n      <td>2</td>\n      <td>2</td>\n      <td>2</td>\n      <td>2</td>\n      <td>2</td>\n      <td>2</td>\n      <td>2</td>\n    </tr>\n    <tr>\n      <th>5</th>\n      <td>4</td>\n      <td>4</td>\n      <td>4</td>\n      <td>4</td>\n      <td>4</td>\n      <td>4</td>\n      <td>4</td>\n    </tr>\n    <tr>\n      <th>6</th>\n      <td>2</td>\n      <td>2</td>\n      <td>2</td>\n      <td>2</td>\n      <td>2</td>\n      <td>2</td>\n      <td>2</td>\n    </tr>\n    <tr>\n      <th>7</th>\n      <td>2</td>\n      <td>2</td>\n      <td>2</td>\n      <td>2</td>\n      <td>2</td>\n      <td>2</td>\n      <td>2</td>\n    </tr>\n    <tr>\n      <th>8</th>\n      <td>4</td>\n      <td>4</td>\n      <td>4</td>\n      <td>4</td>\n      <td>4</td>\n      <td>4</td>\n      <td>4</td>\n    </tr>\n    <tr>\n      <th>9</th>\n      <td>2</td>\n      <td>2</td>\n      <td>2</td>\n      <td>2</td>\n      <td>2</td>\n      <td>2</td>\n      <td>2</td>\n    </tr>\n  </tbody>\n</table>\n</div>"
     },
     "metadata": {},
     "execution_count": 5
    }
   ],
   "source": [
    "y_pred_logreg = logreg.predict(stand_x.transform(x_test))\n",
    "y_pred_knn = knn.predict(stand_x.transform(x_test))\n",
    "y_pred_svm = svm.predict(stand_x.transform(x_test))\n",
    "y_pred_nb = nb.predict(stand_x.transform(x_test))\n",
    "y_pred_dt = dt.predict(stand_x.transform(x_test))\n",
    "y_pred_rf = rf.predict(stand_x.transform(x_test))\n",
    "\n",
    "pd.DataFrame(data=np.stack((y_test, y_pred_logreg, y_pred_knn, y_pred_svm, y_pred_nb, y_pred_dt, y_pred_rf), axis=1),\n",
    "             index=None, columns=['y_actual', 'LogisticRegression_prediction', 'KNN_prediction', 'SuportVectorMachine_prediction', 'NaiveBayes_prediction', 'DecisionTree_prediction', 'RandomForest_prediction'],\n",
    "             copy=False).head(10)"
   ]
  },
  {
   "cell_type": "code",
   "execution_count": 6,
   "metadata": {},
   "outputs": [
    {
     "output_type": "execute_result",
     "data": {
      "text/plain": "                       Accuracy Score\nLogistic Regression          0.963504\nKNN                          0.956204\nSuport Vector Machine        0.963504\nNaive Bayes                  0.963504\nDecision Tree                0.956204\nRandom Forest                0.970803",
      "text/html": "<div>\n<style scoped>\n    .dataframe tbody tr th:only-of-type {\n        vertical-align: middle;\n    }\n\n    .dataframe tbody tr th {\n        vertical-align: top;\n    }\n\n    .dataframe thead th {\n        text-align: right;\n    }\n</style>\n<table border=\"1\" class=\"dataframe\">\n  <thead>\n    <tr style=\"text-align: right;\">\n      <th></th>\n      <th>Accuracy Score</th>\n    </tr>\n  </thead>\n  <tbody>\n    <tr>\n      <th>Logistic Regression</th>\n      <td>0.963504</td>\n    </tr>\n    <tr>\n      <th>KNN</th>\n      <td>0.956204</td>\n    </tr>\n    <tr>\n      <th>Suport Vector Machine</th>\n      <td>0.963504</td>\n    </tr>\n    <tr>\n      <th>Naive Bayes</th>\n      <td>0.963504</td>\n    </tr>\n    <tr>\n      <th>Decision Tree</th>\n      <td>0.956204</td>\n    </tr>\n    <tr>\n      <th>Random Forest</th>\n      <td>0.970803</td>\n    </tr>\n  </tbody>\n</table>\n</div>"
     },
     "metadata": {},
     "execution_count": 6
    }
   ],
   "source": [
    "from sklearn.metrics import accuracy_score\n",
    "\n",
    "score_logreg = accuracy_score(y_test, y_pred_logreg)\n",
    "score_knn = accuracy_score(y_test, y_pred_knn)\n",
    "score_svm = accuracy_score(y_test, y_pred_svm)\n",
    "score_nb = accuracy_score(y_test, y_pred_nb)\n",
    "score_dt = accuracy_score(y_test, y_pred_dt)\n",
    "score_rf = accuracy_score(y_test, y_pred_rf)\n",
    "\n",
    "pd.DataFrame(data=[score_logreg, score_knn, score_svm, score_nb,score_dt, score_rf],\n",
    "             index=[\"Logistic Regression\", \"KNN\", \"Suport Vector Machine\", \"Naive Bayes\", \"Decision Tree\", \"Random Forest\"],\n",
    "             columns=['Accuracy Score'],\n",
    "             copy=False)"
   ]
  },
  {
   "source": [
    "<img src=\"../../../../images/false_pos_neg.png\" style=\"background:white; display: block; margin-left: auto;margin-right: auto; width:80%\"/><br>\n",
    "<img src=\"../../../../images/cap.png\" style=\"background:white; display: block; margin-left: auto;margin-right: auto; width:80%\"/>\n",
    "<img src=\"../../../../images/cap_analysis.png\" style=\"background:white; display: block; margin-left: auto;margin-right: auto; width:80%\"/>"
   ],
   "cell_type": "markdown",
   "metadata": {}
  },
  {
   "source": [
    "<p style=\"font-size:14px\">From a business point of view<ul style=\"font-size:14px\">\n",
    "    <li>when we want to rank our predictions by their probability<ul>\n",
    "            <li><strong>Logistic Regression</strong> or <strong>Naive Bayes</strong>\n",
    "            <li>for this type of business problem, we should use Logistic Regression if our problem is linear, and Naive Bayes if our problem is non linear\n",
    "            <li>for example if we want to rank our customers from the highest probability that they buy a certain product, to the lowest probability\n",
    "        </ul>\n",
    "    <li>when we want to predict to which segment our customers belong to<ul>\n",
    "            <li><strong>Support Vector Machine</strong>\n",
    "            <li>segments can be any kind of segments\n",
    "        </ul>\n",
    "    <li>when we want to have clear interpretation of our model results<ul>\n",
    "            <li><strong>Decision Tree Classification</strong>\n",
    "        </ul>\n",
    "    <li>when we are just looking for high performance with less need for interpretation<ul>\n",
    "            <li><strong>Random Forest Classification</strong>\n",
    "        </ul>\n",
    "</ul>\n",
    "</p>"
   ],
   "cell_type": "markdown",
   "metadata": {}
  }
 ]
}