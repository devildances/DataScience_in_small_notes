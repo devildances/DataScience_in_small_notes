{
 "metadata": {
  "language_info": {
   "codemirror_mode": {
    "name": "ipython",
    "version": 3
   },
   "file_extension": ".py",
   "mimetype": "text/x-python",
   "name": "python",
   "nbconvert_exporter": "python",
   "pygments_lexer": "ipython3",
   "version": "3.7.7-final"
  },
  "orig_nbformat": 2,
  "kernelspec": {
   "name": "python3",
   "display_name": "Python 3"
  }
 },
 "nbformat": 4,
 "nbformat_minor": 2,
 "cells": [
  {
   "source": [
    "<img src=\"../../../../images/svm.JPG\" style=\"background:white; display: block; margin-left: auto;margin-right: auto; width:60%\"/>"
   ],
   "cell_type": "markdown",
   "metadata": {}
  },
  {
   "source": [
    "---\n",
    "<h2>1. Importing the Dataset</h2>"
   ],
   "cell_type": "markdown",
   "metadata": {}
  },
  {
   "cell_type": "code",
   "execution_count": 1,
   "metadata": {},
   "outputs": [
    {
     "output_type": "display_data",
     "data": {
      "text/plain": "   Age  EstimatedSalary  Purchased\n0   19            19000          0\n1   35            20000          0\n2   26            43000          0\n3   27            57000          0\n4   19            76000          0",
      "text/html": "<div>\n<style scoped>\n    .dataframe tbody tr th:only-of-type {\n        vertical-align: middle;\n    }\n\n    .dataframe tbody tr th {\n        vertical-align: top;\n    }\n\n    .dataframe thead th {\n        text-align: right;\n    }\n</style>\n<table border=\"1\" class=\"dataframe\">\n  <thead>\n    <tr style=\"text-align: right;\">\n      <th></th>\n      <th>Age</th>\n      <th>EstimatedSalary</th>\n      <th>Purchased</th>\n    </tr>\n  </thead>\n  <tbody>\n    <tr>\n      <th>0</th>\n      <td>19</td>\n      <td>19000</td>\n      <td>0</td>\n    </tr>\n    <tr>\n      <th>1</th>\n      <td>35</td>\n      <td>20000</td>\n      <td>0</td>\n    </tr>\n    <tr>\n      <th>2</th>\n      <td>26</td>\n      <td>43000</td>\n      <td>0</td>\n    </tr>\n    <tr>\n      <th>3</th>\n      <td>27</td>\n      <td>57000</td>\n      <td>0</td>\n    </tr>\n    <tr>\n      <th>4</th>\n      <td>19</td>\n      <td>76000</td>\n      <td>0</td>\n    </tr>\n  </tbody>\n</table>\n</div>"
     },
     "metadata": {}
    }
   ],
   "source": [
    "import pandas as pd\n",
    "import numpy as np\n",
    "\n",
    "df = pd.read_csv('../../../../data/clean/Social_Network_Ads.csv')\n",
    "display(df.head())\n",
    "x = df.iloc[:, :-1].values\n",
    "y = df.iloc[:, -1].values"
   ]
  },
  {
   "source": [
    "---\n",
    "<h2>2. Splitting the Dataset</h2>"
   ],
   "cell_type": "markdown",
   "metadata": {}
  },
  {
   "cell_type": "code",
   "execution_count": 2,
   "metadata": {
    "tags": []
   },
   "outputs": [
    {
     "output_type": "stream",
     "name": "stdout",
     "text": "train dataset size : 320 observations\ntest dataset size : 80 observations\n"
    }
   ],
   "source": [
    "from sklearn.model_selection import train_test_split\n",
    "\n",
    "x_train, x_test, y_train, y_test = train_test_split(x, y, test_size=0.2, random_state=42, stratify=y)\n",
    "print(\"train dataset size : {} observations\\ntest dataset size : {} observations\".format(x_train.shape[0], x_test.shape[0]))"
   ]
  },
  {
   "source": [
    "---\n",
    "<h2>3. Feature Scaling</h2>"
   ],
   "cell_type": "markdown",
   "metadata": {}
  },
  {
   "cell_type": "code",
   "execution_count": 3,
   "metadata": {},
   "outputs": [],
   "source": [
    "from sklearn.preprocessing import StandardScaler\n",
    "\n",
    "stand_x = StandardScaler().fit(x_train)\n",
    "x_ss = stand_x.transform(x_train)"
   ]
  },
  {
   "source": [
    "---\n",
    "<h2>4. Training the Model with Train Dataset</h2>"
   ],
   "cell_type": "markdown",
   "metadata": {}
  },
  {
   "cell_type": "code",
   "execution_count": 4,
   "metadata": {},
   "outputs": [
    {
     "output_type": "execute_result",
     "data": {
      "text/plain": "SVC(random_state=42)"
     },
     "metadata": {},
     "execution_count": 4
    }
   ],
   "source": [
    "from sklearn.svm import SVC\n",
    "\n",
    "'''\n",
    "> 'kernel' : the kernel type to be used in the algorithm\n",
    "    - ‘linear’ : no need to specify other parameters\n",
    "    - ‘poly’ : use 'degree' and 'coef0' parameters\n",
    "    - ‘rbf’ : use 'C' and 'gamma' parameters\n",
    "    - ‘sigmoid’ : use 'coef0' parameter\n",
    "    - ‘precomputed’ : compute data matrices only\n",
    "> 'degree' : Degree of the polynomial kernel function (‘poly’). Ignored by all other kernels\n",
    "> 'C' parameter : A low C makes the decision surface smooth, while a high C aims at classifying all training examples correctly\n",
    "> 'gamma' : it defines how much influence a single training example has. The larger gamma is, the closer other examples must be to be affected\n",
    "> 'coef0' : It is only significant in ‘poly’ and ‘sigmoid’\n",
    "'''\n",
    "svm = SVC(C=1.0, kernel='rbf', gamma='scale', random_state=42)\n",
    "svm.fit(x_ss, y_train)"
   ]
  },
  {
   "source": [
    "---\n",
    "<h2>5. Predicting the Test Dataset and Display Results</h2>"
   ],
   "cell_type": "markdown",
   "metadata": {}
  },
  {
   "cell_type": "code",
   "execution_count": 5,
   "metadata": {},
   "outputs": [
    {
     "output_type": "execute_result",
     "data": {
      "text/plain": "   y actual  y prediction\n0         1             1\n1         0             0\n2         0             0\n3         0             1\n4         0             0\n5         1             1\n6         0             0\n7         1             1\n8         0             1\n9         0             0",
      "text/html": "<div>\n<style scoped>\n    .dataframe tbody tr th:only-of-type {\n        vertical-align: middle;\n    }\n\n    .dataframe tbody tr th {\n        vertical-align: top;\n    }\n\n    .dataframe thead th {\n        text-align: right;\n    }\n</style>\n<table border=\"1\" class=\"dataframe\">\n  <thead>\n    <tr style=\"text-align: right;\">\n      <th></th>\n      <th>y actual</th>\n      <th>y prediction</th>\n    </tr>\n  </thead>\n  <tbody>\n    <tr>\n      <th>0</th>\n      <td>1</td>\n      <td>1</td>\n    </tr>\n    <tr>\n      <th>1</th>\n      <td>0</td>\n      <td>0</td>\n    </tr>\n    <tr>\n      <th>2</th>\n      <td>0</td>\n      <td>0</td>\n    </tr>\n    <tr>\n      <th>3</th>\n      <td>0</td>\n      <td>1</td>\n    </tr>\n    <tr>\n      <th>4</th>\n      <td>0</td>\n      <td>0</td>\n    </tr>\n    <tr>\n      <th>5</th>\n      <td>1</td>\n      <td>1</td>\n    </tr>\n    <tr>\n      <th>6</th>\n      <td>0</td>\n      <td>0</td>\n    </tr>\n    <tr>\n      <th>7</th>\n      <td>1</td>\n      <td>1</td>\n    </tr>\n    <tr>\n      <th>8</th>\n      <td>0</td>\n      <td>1</td>\n    </tr>\n    <tr>\n      <th>9</th>\n      <td>0</td>\n      <td>0</td>\n    </tr>\n  </tbody>\n</table>\n</div>"
     },
     "metadata": {},
     "execution_count": 5
    }
   ],
   "source": [
    "y_pred = svm.predict(stand_x.transform(x_test))\n",
    "\n",
    "pd.DataFrame(data=np.stack((y_test, y_pred), axis=1),\n",
    "             index=None, columns=['y actual', 'y prediction'],\n",
    "             copy=False).head(10)"
   ]
  },
  {
   "source": [
    "---\n",
    "<h2>6. Making the Confusion Matrix</h2>"
   ],
   "cell_type": "markdown",
   "metadata": {}
  },
  {
   "cell_type": "code",
   "execution_count": 6,
   "metadata": {
    "tags": []
   },
   "outputs": [
    {
     "output_type": "stream",
     "name": "stdout",
     "text": "[[46  5]\n [ 3 26]]\n\nConfusion matrix result shows that:\n\t- 46 correct predictions of the class 0 (who didn't buy the product)        \n\t- 5 incorrect predictions of the class 1 (predicted as user who bought the product but in reality not to)        \n\t- 26 correct predictions of the class 1 (who bought the product)        \n\t- 3 incorrect predictions of the class 0 (predicted as user who didn't buy the product but in reality they bought the product)\n"
    }
   ],
   "source": [
    "from sklearn.metrics import confusion_matrix\n",
    "\n",
    "print(confusion_matrix(y_test, y_pred))\n",
    "print(\"\\nConfusion matrix result shows that:\\n\\t- 46 correct predictions of the class 0 (who didn\\'t buy the product)\\\n",
    "        \\n\\t- 5 incorrect predictions of the class 1 (predicted as user who bought the product but in reality not to)\\\n",
    "        \\n\\t- 26 correct predictions of the class 1 (who bought the product)\\\n",
    "        \\n\\t- 3 incorrect predictions of the class 0 (predicted as user who didn\\'t buy the product but in reality they bought the product)\")"
   ]
  }
 ]
}