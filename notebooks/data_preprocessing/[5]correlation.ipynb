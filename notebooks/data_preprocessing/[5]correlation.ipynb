{
 "metadata": {
  "language_info": {
   "codemirror_mode": {
    "name": "ipython",
    "version": 3
   },
   "file_extension": ".py",
   "mimetype": "text/x-python",
   "name": "python",
   "nbconvert_exporter": "python",
   "pygments_lexer": "ipython3",
   "version": "3.7.7-final"
  },
  "orig_nbformat": 2,
  "kernelspec": {
   "name": "python3",
   "display_name": "Python 3"
  }
 },
 "nbformat": 4,
 "nbformat_minor": 2,
 "cells": [
  {
   "cell_type": "code",
   "execution_count": 1,
   "metadata": {},
   "outputs": [],
   "source": [
    "import pandas as pd\n",
    "import numpy as np\n",
    "import matplotlib as mpl\n",
    "import matplotlib.pyplot as plt\n",
    "import seaborn as sns\n",
    "\n",
    "mpl.style.use('seaborn-whitegrid')\n",
    "%matplotlib inline"
   ]
  },
  {
   "cell_type": "code",
   "execution_count": 2,
   "metadata": {},
   "outputs": [
    {
     "output_type": "execute_result",
     "data": {
      "text/plain": "      price  bedrooms  bathrooms  sqft_living  sqft_lot  floors  condition  \\\n0  221900.0         3       1.00         1180      5650     1.0          3   \n1  538000.0         3       2.25         2570      7242     2.0          3   \n2  180000.0         2       1.00          770     10000     1.0          3   \n3  604000.0         4       3.00         1960      5000     1.0          5   \n4  510000.0         3       2.00         1680      8080     1.0          3   \n\n   grade  sqft_above  sqft_basement  \n0      7        1180              0  \n1      7        2170            400  \n2      6         770              0  \n3      7        1050            910  \n4      8        1680              0  ",
      "text/html": "<div>\n<style scoped>\n    .dataframe tbody tr th:only-of-type {\n        vertical-align: middle;\n    }\n\n    .dataframe tbody tr th {\n        vertical-align: top;\n    }\n\n    .dataframe thead th {\n        text-align: right;\n    }\n</style>\n<table border=\"1\" class=\"dataframe\">\n  <thead>\n    <tr style=\"text-align: right;\">\n      <th></th>\n      <th>price</th>\n      <th>bedrooms</th>\n      <th>bathrooms</th>\n      <th>sqft_living</th>\n      <th>sqft_lot</th>\n      <th>floors</th>\n      <th>condition</th>\n      <th>grade</th>\n      <th>sqft_above</th>\n      <th>sqft_basement</th>\n    </tr>\n  </thead>\n  <tbody>\n    <tr>\n      <th>0</th>\n      <td>221900.0</td>\n      <td>3</td>\n      <td>1.00</td>\n      <td>1180</td>\n      <td>5650</td>\n      <td>1.0</td>\n      <td>3</td>\n      <td>7</td>\n      <td>1180</td>\n      <td>0</td>\n    </tr>\n    <tr>\n      <th>1</th>\n      <td>538000.0</td>\n      <td>3</td>\n      <td>2.25</td>\n      <td>2570</td>\n      <td>7242</td>\n      <td>2.0</td>\n      <td>3</td>\n      <td>7</td>\n      <td>2170</td>\n      <td>400</td>\n    </tr>\n    <tr>\n      <th>2</th>\n      <td>180000.0</td>\n      <td>2</td>\n      <td>1.00</td>\n      <td>770</td>\n      <td>10000</td>\n      <td>1.0</td>\n      <td>3</td>\n      <td>6</td>\n      <td>770</td>\n      <td>0</td>\n    </tr>\n    <tr>\n      <th>3</th>\n      <td>604000.0</td>\n      <td>4</td>\n      <td>3.00</td>\n      <td>1960</td>\n      <td>5000</td>\n      <td>1.0</td>\n      <td>5</td>\n      <td>7</td>\n      <td>1050</td>\n      <td>910</td>\n    </tr>\n    <tr>\n      <th>4</th>\n      <td>510000.0</td>\n      <td>3</td>\n      <td>2.00</td>\n      <td>1680</td>\n      <td>8080</td>\n      <td>1.0</td>\n      <td>3</td>\n      <td>8</td>\n      <td>1680</td>\n      <td>0</td>\n    </tr>\n  </tbody>\n</table>\n</div>"
     },
     "metadata": {},
     "execution_count": 2
    }
   ],
   "source": [
    "df = pd.read_csv('../../data/clean/house_data.csv',\n",
    "                 usecols=['price', 'bedrooms', 'bathrooms', 'sqft_living', 'sqft_lot', 'floors', 'condition', 'grade', 'sqft_above', 'sqft_basement'])\n",
    "df.drop_duplicates(inplace=True)\n",
    "df.dropna(axis=0, inplace=True)\n",
    "df = df[df.bedrooms != 0]\n",
    "df.head()"
   ]
  },
  {
   "cell_type": "markdown",
   "metadata": {},
   "source": [
    "---\n",
    "<h1 style=\"text-align:center\">CORRELATION</h1>\n",
    "<img src=\"../../images/corr.JPG\" style=\"background:white; display: block; margin-left: auto;margin-right: auto; width:60%\"/>\n",
    "<ul style=\"font-size:13px\">\n",
    "    <li><strong>WHAT</strong><ul>\n",
    "            <li>Correlation is a statistical measure that explains how one or more variables are related to each other\n",
    "            <li>These variables can be input data features which have been used to forecast our target variable\n",
    "            <li><strong>Correlation does not cause causation</strong> (ie. : correlation between Ice cream sales and sunglasses sold)\n",
    "            <li>Correlations can be divided into three common types:<ul>\n",
    "                    <li><strong>Strong Positive Correlation</strong> — Two features can be positively correlated with each other which means that when the value of one variable increases then the value of the other variable(s) also increases\n",
    "                    <li><strong>Strong Negative Correlation</strong> — Two features can be negatively correlated with each other that occurs when the value of one variable increases and the value of other variable(s) decreases\n",
    "                    <li><strong>No Correlation</strong> — Two features might not have any relationship with each other which happens when the value of a variable is changed then the value of the other variable is not impacted\n",
    "                </ul>\n",
    "        </ul>\n",
    "    <li><strong>WHY</strong><ul>\n",
    "            <li>Features with high correlation are more linearly dependent and hence have almost the same effect on the dependent variable so when two features have high correlation, we can drop one of the two features, this is called <i><strong>\"Correlation-Based Feature Selection\"</strong></i>\n",
    "            <li>Correlation helps us in determining the degree of relationship between variables and enables us to make our decision for the future course of actions\n",
    "            <li>Essentially, correlation analysis is used for spotting patterns within datasets\n",
    "            <li>Through the correlation analysis, we evaluate correlation coefficient that tells us how much one variable changes when the other one does\n",
    "        </ul>\n",
    "    <li><strong>HOW</strong><ul>\n",
    "            <li>Calculate based on level of measurement<ul>\n",
    "                    <li>Linear correlation (both are continuous/ordinal variables)<ul>\n",
    "                            <li><strong>Pearson's r</strong>\n",
    "                            <li><strong>Spearman's Rho</strong>\n",
    "                            <li><strong>Kendall's Tau</strong>\n",
    "                        </ul>\n",
    "                    <li>Categorical correlation (both are categorical — nominal variables)<ul>\n",
    "                            <li><strong>Cramer's V</strong>\n",
    "                            <li><strong>Theil's U</strong>\n",
    "                        </ul>\n",
    "                    <li>Different types of data correlation (continuous and categorical/binary variabels)<ul>\n",
    "                            <li><strong>Point-Biserial</strong>\n",
    "                            <li><strong>Correlation Ratio</strong>\n",
    "                        </ul>\n",
    "                </ul>\n",
    "            <li>Result of calculation<ul>\n",
    "                    <li><strong>Correlation coefficient (<i>r</i>)</strong> — for Linear Correlation<ul>\n",
    "                                <li><img src=\"../../images/corrvalue.jpeg\" style=\"background:white; width:25%\"/>\n",
    "                                <li>The main result of a correlation is called the correlation coefficient\n",
    "                                <li>The degree of association is measured by correlation coefficient\n",
    "                                <li>A correlation coefficient is a way to put a value to the relationship\n",
    "                                <li>Correlation coefficients have a value of between -1 and 1\n",
    "                                <li>A 0 means there is no relationship between the variables at all, while -1 or 1 means that there is a perfect negative or positive correlation\n",
    "                                <li>The four posibilities<ul>\n",
    "                                                <li><strong>r-value(low) & p-value(low)</strong> — Model doesn’t explain much about variation, but is significant (Better than nothing)\n",
    "                                                <li><strong>r-value(low) & p-value(high)</strong> — Model doesn’t explain much about variation and not significant (Worst model)\n",
    "                                                <li><strong>r-value(high) & p-value(low)</strong> — Model tells much about variation and significant (Best model)\n",
    "                                                <li><strong>r-value(high) & p-value(high)</strong> — Model explains well about variation but not significant (Worthless)\n",
    "                                        </ul>\n",
    "                        </ul>\n",
    "                </ul>\n",
    "        </ul>\n",
    "</ul>"
   ]
  },
  {
   "cell_type": "markdown",
   "metadata": {},
   "source": [
    "---\n",
    "---\n",
    "<h2>1. a) Pearson's r</h2>\n",
    "<ul style=\"font-size:13px\">\n",
    "    <li>It measures the linear relationship between the variables and assumes that the variables are <strong>normally distributed</strong>\n",
    "    <li>Pearson's r correlation is the most widely used correlation statistic to measure the degree of the relationship between linearly related variables\n",
    "    <li>In general, when the data is normally distributed we use Pearson correlation\n",
    "    <li> Pearson’s correlation coefficient is naturally sensitive to <strong>skewed distributions</strong> and <strong>outliers</strong>\n",
    "    <li>Features with high correlation are more linearly dependent and hence have almost the same effect on the dependent variable so when two features have high correlation, we can drop one of the two features\n",
    "    <li>The formula<ul>\n",
    "            <li>covariance(X, Y) = (sum (x - mean(X)) * (y - mean(Y)) ) * 1/(n-1)\n",
    "            <li>Pearson's correlation coefficient = covariance(X, Y) / (stdv(X) * stdv(Y))\n",
    "        </ul>\n",
    "</ul>"
   ]
  },
  {
   "cell_type": "code",
   "execution_count": 3,
   "metadata": {
    "tags": []
   },
   "outputs": [
    {
     "output_type": "display_data",
     "data": {
      "text/plain": "               sqft_living  sqft_lot  sqft_above  sqft_basement\nsqft_living       1.000000  0.173319    0.876483       0.435220\nsqft_lot          0.173319  1.000000    0.184037       0.015354\nsqft_above        0.876483  0.184037    1.000000      -0.051982\nsqft_basement     0.435220  0.015354   -0.051982       1.000000",
      "text/html": "<div>\n<style scoped>\n    .dataframe tbody tr th:only-of-type {\n        vertical-align: middle;\n    }\n\n    .dataframe tbody tr th {\n        vertical-align: top;\n    }\n\n    .dataframe thead th {\n        text-align: right;\n    }\n</style>\n<table border=\"1\" class=\"dataframe\">\n  <thead>\n    <tr style=\"text-align: right;\">\n      <th></th>\n      <th>sqft_living</th>\n      <th>sqft_lot</th>\n      <th>sqft_above</th>\n      <th>sqft_basement</th>\n    </tr>\n  </thead>\n  <tbody>\n    <tr>\n      <th>sqft_living</th>\n      <td>1.000000</td>\n      <td>0.173319</td>\n      <td>0.876483</td>\n      <td>0.435220</td>\n    </tr>\n    <tr>\n      <th>sqft_lot</th>\n      <td>0.173319</td>\n      <td>1.000000</td>\n      <td>0.184037</td>\n      <td>0.015354</td>\n    </tr>\n    <tr>\n      <th>sqft_above</th>\n      <td>0.876483</td>\n      <td>0.184037</td>\n      <td>1.000000</td>\n      <td>-0.051982</td>\n    </tr>\n    <tr>\n      <th>sqft_basement</th>\n      <td>0.435220</td>\n      <td>0.015354</td>\n      <td>-0.051982</td>\n      <td>1.000000</td>\n    </tr>\n  </tbody>\n</table>\n</div>"
     },
     "metadata": {}
    },
    {
     "output_type": "stream",
     "name": "stdout",
     "text": "as we can see, between sqft_living-sqft_above has strong relationship and sqft_living-sqft_basement has moderate relationship,\nso we can drop one of them from features but which one? \n\n\n"
    },
    {
     "output_type": "display_data",
     "data": {
      "text/plain": "       price  sqft_living  sqft_lot  sqft_above  sqft_basement\nprice    1.0     0.701933  0.089824    0.605427       0.323832",
      "text/html": "<div>\n<style scoped>\n    .dataframe tbody tr th:only-of-type {\n        vertical-align: middle;\n    }\n\n    .dataframe tbody tr th {\n        vertical-align: top;\n    }\n\n    .dataframe thead th {\n        text-align: right;\n    }\n</style>\n<table border=\"1\" class=\"dataframe\">\n  <thead>\n    <tr style=\"text-align: right;\">\n      <th></th>\n      <th>price</th>\n      <th>sqft_living</th>\n      <th>sqft_lot</th>\n      <th>sqft_above</th>\n      <th>sqft_basement</th>\n    </tr>\n  </thead>\n  <tbody>\n    <tr>\n      <th>price</th>\n      <td>1.0</td>\n      <td>0.701933</td>\n      <td>0.089824</td>\n      <td>0.605427</td>\n      <td>0.323832</td>\n    </tr>\n  </tbody>\n</table>\n</div>"
     },
     "metadata": {}
    },
    {
     "output_type": "stream",
     "name": "stdout",
     "text": "Based on the table above we can draw a conclusion that sqft_living has stronger relationship rather than sqft_above and sqft_basement\nso we can exclude sqft_above and sqft_basement from feature selection since both of them have relationship with sqft_living!\n"
    }
   ],
   "source": [
    "from scipy.stats import pearsonr\n",
    "\n",
    "# Between 2 features\n",
    "df_feats = df[['sqft_living', 'sqft_lot', 'sqft_above', 'sqft_basement']].copy()\n",
    "corr_feats = pd.DataFrame(data=[[0]*len(df_feats.columns) for i in range(len(df_feats.columns))],\n",
    "                          columns=df_feats.columns\n",
    "                          ).set_index([pd.Index(df_feats.columns)])\n",
    "\n",
    "for i in df_feats.columns:\n",
    "    for j in df_feats.columns:\n",
    "        r, pval = pearsonr(df_feats[i], df_feats[j])\n",
    "        corr_feats.loc[i, j] = r\n",
    "\n",
    "display(corr_feats)\n",
    "print(\"as we can see, between sqft_living-sqft_above has strong relationship and sqft_living-sqft_basement has moderate relationship,\\nso we can drop one of them from features but which one? \\n\\n\")\n",
    "\n",
    "# Between feature and dependent variable\n",
    "df_dep = df[['price', 'sqft_living', 'sqft_lot', 'sqft_above', 'sqft_basement']].copy()\n",
    "corr_dep = pd.DataFrame(data=[[0]*len(df_dep.columns)],\n",
    "                          columns=df_dep.columns\n",
    "                          ).set_index([pd.Index(['price'])])\n",
    "\n",
    "for i in df_dep.columns:\n",
    "    r, pval = pearsonr(df_dep['price'], df_dep[i])\n",
    "    corr_dep.loc['price', i] = r\n",
    "\n",
    "display(corr_dep)\n",
    "print(\"Based on the table above we can draw a conclusion that sqft_living has stronger relationship rather than sqft_above and sqft_basement\\nso we can exclude sqft_above and sqft_basement from feature selection since both of them have relationship with sqft_living!\")"
   ]
  },
  {
   "cell_type": "markdown",
   "metadata": {},
   "source": [
    "---\n",
    "<h2>1. b) Spearman's Rho</h2>\n",
    "<ul style=\"font-size:13px\">\n",
    "    <li>The Spearman rank correlation coefficient often denotes as <i><strong>ρ</strong></i> (<i>rho</i>) or rs, is the non-parametric version of the Pearson correlation coefficient\n",
    "    <li>The Spearman correlation is less sensitive to strong outliers than the Pearson correlation as Spearman’s ρ limits the outlier to the value of its rank\n",
    "    <li>The variables are not required to have normal distribution\n",
    "    <li>It can deal with ordinal, interval or ratio variables for monotonic relationships (strictly increase or decrease, not both)\n",
    "    <li>Spearman rank correlation could be interpreted similarly as the Pearson correlation coefficient as their value falls between -1 to 1\n",
    "    <li>The formula<ul>\n",
    "            <li>Spearman's correlation coefficient = covariance(rank(X), rank(Y)) / (stdv(rank(X)) * stdv(rank(Y)))\n",
    "        </ul>\n",
    "</ul>"
   ]
  },
  {
   "cell_type": "code",
   "execution_count": 4,
   "metadata": {
    "tags": []
   },
   "outputs": [
    {
     "output_type": "display_data",
     "data": {
      "text/plain": "               sqft_living  sqft_lot  sqft_above  sqft_basement  condition  \\\nsqft_living       1.000000  0.304279    0.843414       0.328018  -0.063062   \nsqft_lot          0.304279  1.000000    0.272747       0.036512   0.114492   \nsqft_above        0.843414  0.272747    1.000000      -0.165651  -0.158464   \nsqft_basement     0.328018  0.036512   -0.165651       1.000000   0.161327   \ncondition        -0.063062  0.114492   -0.158464       0.161327   1.000000   \ngrade             0.716646  0.152752    0.712054       0.092867  -0.167699   \n\n                  grade  \nsqft_living    0.716646  \nsqft_lot       0.152752  \nsqft_above     0.712054  \nsqft_basement  0.092867  \ncondition     -0.167699  \ngrade          1.000000  ",
      "text/html": "<div>\n<style scoped>\n    .dataframe tbody tr th:only-of-type {\n        vertical-align: middle;\n    }\n\n    .dataframe tbody tr th {\n        vertical-align: top;\n    }\n\n    .dataframe thead th {\n        text-align: right;\n    }\n</style>\n<table border=\"1\" class=\"dataframe\">\n  <thead>\n    <tr style=\"text-align: right;\">\n      <th></th>\n      <th>sqft_living</th>\n      <th>sqft_lot</th>\n      <th>sqft_above</th>\n      <th>sqft_basement</th>\n      <th>condition</th>\n      <th>grade</th>\n    </tr>\n  </thead>\n  <tbody>\n    <tr>\n      <th>sqft_living</th>\n      <td>1.000000</td>\n      <td>0.304279</td>\n      <td>0.843414</td>\n      <td>0.328018</td>\n      <td>-0.063062</td>\n      <td>0.716646</td>\n    </tr>\n    <tr>\n      <th>sqft_lot</th>\n      <td>0.304279</td>\n      <td>1.000000</td>\n      <td>0.272747</td>\n      <td>0.036512</td>\n      <td>0.114492</td>\n      <td>0.152752</td>\n    </tr>\n    <tr>\n      <th>sqft_above</th>\n      <td>0.843414</td>\n      <td>0.272747</td>\n      <td>1.000000</td>\n      <td>-0.165651</td>\n      <td>-0.158464</td>\n      <td>0.712054</td>\n    </tr>\n    <tr>\n      <th>sqft_basement</th>\n      <td>0.328018</td>\n      <td>0.036512</td>\n      <td>-0.165651</td>\n      <td>1.000000</td>\n      <td>0.161327</td>\n      <td>0.092867</td>\n    </tr>\n    <tr>\n      <th>condition</th>\n      <td>-0.063062</td>\n      <td>0.114492</td>\n      <td>-0.158464</td>\n      <td>0.161327</td>\n      <td>1.000000</td>\n      <td>-0.167699</td>\n    </tr>\n    <tr>\n      <th>grade</th>\n      <td>0.716646</td>\n      <td>0.152752</td>\n      <td>0.712054</td>\n      <td>0.092867</td>\n      <td>-0.167699</td>\n      <td>1.000000</td>\n    </tr>\n  </tbody>\n</table>\n</div>"
     },
     "metadata": {}
    },
    {
     "output_type": "stream",
     "name": "stdout",
     "text": "The correlation result between features seems tend to be same with Pearson correlation coefficient, then we can see the relationship with the dependent variable \n\n\n"
    },
    {
     "output_type": "display_data",
     "data": {
      "text/plain": "       price  sqft_living  sqft_lot  sqft_above  sqft_basement  condition  \\\nprice    1.0      0.64406   0.07502    0.541619       0.251641   0.018194   \n\n          grade  \nprice  0.658298  ",
      "text/html": "<div>\n<style scoped>\n    .dataframe tbody tr th:only-of-type {\n        vertical-align: middle;\n    }\n\n    .dataframe tbody tr th {\n        vertical-align: top;\n    }\n\n    .dataframe thead th {\n        text-align: right;\n    }\n</style>\n<table border=\"1\" class=\"dataframe\">\n  <thead>\n    <tr style=\"text-align: right;\">\n      <th></th>\n      <th>price</th>\n      <th>sqft_living</th>\n      <th>sqft_lot</th>\n      <th>sqft_above</th>\n      <th>sqft_basement</th>\n      <th>condition</th>\n      <th>grade</th>\n    </tr>\n  </thead>\n  <tbody>\n    <tr>\n      <th>price</th>\n      <td>1.0</td>\n      <td>0.64406</td>\n      <td>0.07502</td>\n      <td>0.541619</td>\n      <td>0.251641</td>\n      <td>0.018194</td>\n      <td>0.658298</td>\n    </tr>\n  </tbody>\n</table>\n</div>"
     },
     "metadata": {}
    },
    {
     "output_type": "stream",
     "name": "stdout",
     "text": "sqft_living (continuous variable) and grade (ordinal variable) features are the strongest that we can use as independent variables rather than others!\n"
    }
   ],
   "source": [
    "from scipy.stats import spearmanr\n",
    "\n",
    "# Between 2 features\n",
    "df_feats = df[['sqft_living', 'sqft_lot', 'sqft_above', 'sqft_basement', 'condition', 'grade']].copy()\n",
    "corr_feats = pd.DataFrame(data=[[0]*len(df_feats.columns) for i in range(len(df_feats.columns))],\n",
    "                          columns=df_feats.columns\n",
    "                          ).set_index([pd.Index(df_feats.columns)])\n",
    "\n",
    "for i in df_feats.columns:\n",
    "    for j in df_feats.columns:\n",
    "        rho, pval = spearmanr(df_feats[i], df_feats[j], axis=0)\n",
    "        corr_feats.loc[i, j] = rho\n",
    "\n",
    "display(corr_feats)\n",
    "print(\"The correlation result between features seems tend to be same with Pearson correlation coefficient, then we can see the relationship with the dependent variable \\n\\n\")\n",
    "\n",
    "# Between feature and dependent variable\n",
    "df_dep = df[['price', 'sqft_living', 'sqft_lot', 'sqft_above', 'sqft_basement', 'condition', 'grade']].copy()\n",
    "corr_dep = pd.DataFrame(data=[[0]*len(df_dep.columns)],\n",
    "                          columns=df_dep.columns\n",
    "                          ).set_index([pd.Index(['price'])])\n",
    "\n",
    "for i in df_dep.columns:\n",
    "    rho, pval = spearmanr(df_dep['price'], df_dep[i], axis=0)\n",
    "    corr_dep.loc['price', i] = rho\n",
    "\n",
    "display(corr_dep)\n",
    "print(\"sqft_living (continuous variable) and grade (ordinal variable) features are the strongest that we can use as independent variables rather than others!\")"
   ]
  },
  {
   "cell_type": "markdown",
   "metadata": {},
   "source": [
    "---\n",
    "<h2>1. c) Kendall's Tau</h2>\n",
    "<ul style=\"font-size:13px\">\n",
    "    <li>Kendall's Tau is a non--parametric measure that does not require any assumptions regarding the joint probability distributions of variables\n",
    "    <li>Generally, when the sample size is small and has many tied ranks, Kendall’s correlation often denotes as <i><strong>τ</strong></i> (<i>Tau</i>), is the best alternative to Spearman’s correlation\n",
    "    <li>Kendall’s correlation requires the same data assumptions as Spearman’s correlation, which 1) ordinal, interval or ratio variables and 2) monotonic relationships between the two variables\n",
    "    <li>However, unlike Spearman’s coefficient, Kendall Tau only measures directional agreement, not the rank differences\n",
    "    <li>Therefore, this coefficient is more appropriate for discrete data\n",
    "    <li>The formula<ul>\n",
    "            <li>Kendall's Correlation Coefficient = (n⁺ − n⁻) / √((n⁺ + n⁻ + nˣ)(n⁺ + n⁻ + nʸ))\n",
    "        </ul>\n",
    "</ul>"
   ]
  },
  {
   "cell_type": "code",
   "execution_count": 5,
   "metadata": {
    "tags": []
   },
   "outputs": [
    {
     "output_type": "display_data",
     "data": {
      "text/plain": "           bedrooms  bathrooms    floors  condition     grade\nbedrooms   1.000000   0.439277  0.202964   0.010533  0.331088\nbathrooms  0.439277   1.000000  0.451756  -0.137990  0.556846\nfloors     0.202964   0.451756  1.000000  -0.265224  0.435467\ncondition  0.010533  -0.137990 -0.265224   1.000000 -0.149080\ngrade      0.331088   0.556846  0.435467  -0.149080  1.000000",
      "text/html": "<div>\n<style scoped>\n    .dataframe tbody tr th:only-of-type {\n        vertical-align: middle;\n    }\n\n    .dataframe tbody tr th {\n        vertical-align: top;\n    }\n\n    .dataframe thead th {\n        text-align: right;\n    }\n</style>\n<table border=\"1\" class=\"dataframe\">\n  <thead>\n    <tr style=\"text-align: right;\">\n      <th></th>\n      <th>bedrooms</th>\n      <th>bathrooms</th>\n      <th>floors</th>\n      <th>condition</th>\n      <th>grade</th>\n    </tr>\n  </thead>\n  <tbody>\n    <tr>\n      <th>bedrooms</th>\n      <td>1.000000</td>\n      <td>0.439277</td>\n      <td>0.202964</td>\n      <td>0.010533</td>\n      <td>0.331088</td>\n    </tr>\n    <tr>\n      <th>bathrooms</th>\n      <td>0.439277</td>\n      <td>1.000000</td>\n      <td>0.451756</td>\n      <td>-0.137990</td>\n      <td>0.556846</td>\n    </tr>\n    <tr>\n      <th>floors</th>\n      <td>0.202964</td>\n      <td>0.451756</td>\n      <td>1.000000</td>\n      <td>-0.265224</td>\n      <td>0.435467</td>\n    </tr>\n    <tr>\n      <th>condition</th>\n      <td>0.010533</td>\n      <td>-0.137990</td>\n      <td>-0.265224</td>\n      <td>1.000000</td>\n      <td>-0.149080</td>\n    </tr>\n    <tr>\n      <th>grade</th>\n      <td>0.331088</td>\n      <td>0.556846</td>\n      <td>0.435467</td>\n      <td>-0.149080</td>\n      <td>1.000000</td>\n    </tr>\n  </tbody>\n</table>\n</div>"
     },
     "metadata": {}
    },
    {
     "output_type": "stream",
     "name": "stdout",
     "text": "Between bedrooms-bathrooms, floors-bathrooms, and grade-floors have moderate correlations between them but grade-bathrooms has high correlation so we need to decide which features we want to drop off based on the table below\n\n\n"
    },
    {
     "output_type": "display_data",
     "data": {
      "text/plain": "       price  bedrooms  bathrooms    floors  condition     grade\nprice    1.0  0.264938   0.369347  0.251784   0.014245  0.527893",
      "text/html": "<div>\n<style scoped>\n    .dataframe tbody tr th:only-of-type {\n        vertical-align: middle;\n    }\n\n    .dataframe tbody tr th {\n        vertical-align: top;\n    }\n\n    .dataframe thead th {\n        text-align: right;\n    }\n</style>\n<table border=\"1\" class=\"dataframe\">\n  <thead>\n    <tr style=\"text-align: right;\">\n      <th></th>\n      <th>price</th>\n      <th>bedrooms</th>\n      <th>bathrooms</th>\n      <th>floors</th>\n      <th>condition</th>\n      <th>grade</th>\n    </tr>\n  </thead>\n  <tbody>\n    <tr>\n      <th>price</th>\n      <td>1.0</td>\n      <td>0.264938</td>\n      <td>0.369347</td>\n      <td>0.251784</td>\n      <td>0.014245</td>\n      <td>0.527893</td>\n    </tr>\n  </tbody>\n</table>\n</div>"
     },
     "metadata": {}
    },
    {
     "output_type": "stream",
     "name": "stdout",
     "text": "In fact, only grade feature that has high correlation with dependent variable so we can use it as feature selected and drop the others!\n"
    }
   ],
   "source": [
    "from scipy.stats import kendalltau\n",
    "\n",
    "# Between 2 features\n",
    "df_feats = df[['bedrooms', 'bathrooms', 'floors', 'condition', 'grade']].copy()\n",
    "corr_feats = pd.DataFrame(data=[[0]*len(df_feats.columns) for i in range(len(df_feats.columns))],\n",
    "                          columns=df_feats.columns\n",
    "                          ).set_index([pd.Index(df_feats.columns)])\n",
    "\n",
    "for i in df_feats.columns:\n",
    "    for j in df_feats.columns:\n",
    "        tau, pval = kendalltau(df_feats[i], df_feats[j], method='auto')\n",
    "        corr_feats.loc[i, j] = tau\n",
    "\n",
    "display(corr_feats)\n",
    "print(\"Between bedrooms-bathrooms, floors-bathrooms, and grade-floors have moderate correlations between them but grade-bathrooms has high correlation so we need to decide which features we want to drop off based on the table below\\n\\n\")\n",
    "\n",
    "# Between feature and dependent variable\n",
    "df_dep = df[['price', 'bedrooms', 'bathrooms', 'floors', 'condition', 'grade']].copy()\n",
    "corr_dep = pd.DataFrame(data=[[0]*len(df_dep.columns)],\n",
    "                          columns=df_dep.columns\n",
    "                          ).set_index([pd.Index(['price'])])\n",
    "\n",
    "for i in df_dep.columns:\n",
    "    tau, pval = kendalltau(df_dep['price'], df_dep[i], method='auto')\n",
    "    corr_dep.loc['price', i] = tau\n",
    "\n",
    "display(corr_dep)\n",
    "print(\"In fact, only grade feature that has high correlation with dependent variable so we can use it as feature selected and drop the others!\")"
   ]
  },
  {
   "cell_type": "markdown",
   "metadata": {},
   "source": [
    "---\n",
    "---\n",
    "<h2>2. a) Cramer's V</h2>\n",
    "<ul style=\"font-size:13px\">\n",
    "    <li>Cramer’s V or sometimes referred to as Cramér's <i><strong>φc</strong></i> (<i>phi</i>) is a measure of association between two discrete or nominal variables and indicates how strongly two categorical variables are associated\n",
    "    <li>The measurement is based on the Pearson chi-square statistic and has an output range between 0 to 1<ul>\n",
    "            <li>The closer the value to 0 means less association between the two variables\n",
    "            <li>1 means strong association between the two variables\n",
    "        </ul>\n",
    "    <li>There is no negative (-) value as an output because there is no such thing as a negative association\n",
    "    <li>Like correlation, Cramer’s V is symmetrical — it is insensitive to swapping x and y\n",
    "</ul>"
   ]
  },
  {
   "cell_type": "code",
   "execution_count": 6,
   "metadata": {
    "tags": []
   },
   "outputs": [
    {
     "output_type": "display_data",
     "data": {
      "text/plain": "           bedrooms  bathrooms    floors  condition     grade\nbedrooms   1.000000   0.259100  0.146051   0.048906  0.163679\nbathrooms  0.259100   1.000000  0.299194   0.146831  0.395550\nfloors     0.146051   0.299194  1.000000   0.178469  0.244560\ncondition  0.048906   0.146831  0.178469   1.000000  0.129388\ngrade      0.163679   0.395550  0.244560   0.129388  1.000000",
      "text/html": "<div>\n<style scoped>\n    .dataframe tbody tr th:only-of-type {\n        vertical-align: middle;\n    }\n\n    .dataframe tbody tr th {\n        vertical-align: top;\n    }\n\n    .dataframe thead th {\n        text-align: right;\n    }\n</style>\n<table border=\"1\" class=\"dataframe\">\n  <thead>\n    <tr style=\"text-align: right;\">\n      <th></th>\n      <th>bedrooms</th>\n      <th>bathrooms</th>\n      <th>floors</th>\n      <th>condition</th>\n      <th>grade</th>\n    </tr>\n  </thead>\n  <tbody>\n    <tr>\n      <th>bedrooms</th>\n      <td>1.000000</td>\n      <td>0.259100</td>\n      <td>0.146051</td>\n      <td>0.048906</td>\n      <td>0.163679</td>\n    </tr>\n    <tr>\n      <th>bathrooms</th>\n      <td>0.259100</td>\n      <td>1.000000</td>\n      <td>0.299194</td>\n      <td>0.146831</td>\n      <td>0.395550</td>\n    </tr>\n    <tr>\n      <th>floors</th>\n      <td>0.146051</td>\n      <td>0.299194</td>\n      <td>1.000000</td>\n      <td>0.178469</td>\n      <td>0.244560</td>\n    </tr>\n    <tr>\n      <th>condition</th>\n      <td>0.048906</td>\n      <td>0.146831</td>\n      <td>0.178469</td>\n      <td>1.000000</td>\n      <td>0.129388</td>\n    </tr>\n    <tr>\n      <th>grade</th>\n      <td>0.163679</td>\n      <td>0.395550</td>\n      <td>0.244560</td>\n      <td>0.129388</td>\n      <td>1.000000</td>\n    </tr>\n  </tbody>\n</table>\n</div>"
     },
     "metadata": {}
    },
    {
     "output_type": "stream",
     "name": "stdout",
     "text": "Since all of features that we used are ordinal types, seems the result didn't show any strong or moderate correlation between each feature\n"
    }
   ],
   "source": [
    "from scipy.stats import chi2_contingency\n",
    "\n",
    "def cramers_v(x, y): # someone already implemented Cramer's V as a Python function\n",
    "    \"\"\" calculate Cramers V statistic for categorial-categorial association.\n",
    "        uses correction from Bergsma and Wicher,\n",
    "        Journal of the Korean Statistical Society 42 (2013): 323-328\n",
    "    \"\"\"\n",
    "    confusion_matrix = pd.crosstab(x,y)\n",
    "    chi2 = chi2_contingency(confusion_matrix)[0]\n",
    "    n = confusion_matrix.sum().sum()\n",
    "    phi2 = chi2 / n\n",
    "    r, k = confusion_matrix.shape\n",
    "    phi2corr = max(0, phi2 - ((k-1)*(r-1))/(n-1))\n",
    "    rcorr = r - ((r-1)**2)/(n-1)\n",
    "    kcorr = k - ((k-1)**2)/(n-1)\n",
    "    return np.sqrt(phi2corr / min((kcorr-1), (rcorr-1)))\n",
    "\n",
    "# we don't have any nominal type variable in our current dataset so we'll use ordinal variables instead of nominal\n",
    "df_feats = df[['bedrooms', 'bathrooms', 'floors', 'condition', 'grade']].copy()\n",
    "\n",
    "corr_feats = pd.DataFrame(data=[[0]*len(df_feats.columns) for i in range(len(df_feats.columns))],\n",
    "                          columns=df_feats.columns\n",
    "                          ).set_index([pd.Index(df_feats.columns)])\n",
    "\n",
    "for i in df_feats.columns:\n",
    "    for j in df_feats.columns:\n",
    "        phi = cramers_v(df_feats[i], df_feats[j])\n",
    "        corr_feats.loc[i, j] = phi\n",
    "\n",
    "display(corr_feats)\n",
    "print(\"Since all of features that we used are ordinal types, seems the result didn't show any strong or moderate correlation between each feature\")"
   ]
  },
  {
   "cell_type": "markdown",
   "metadata": {},
   "source": [
    "---\n",
    "<h2>2. b) Theil's U</h2>\n",
    "<ul style=\"font-size:13px\">\n",
    "    <li>Theil’s U, also referred to as the Uncertainty Coefficient, is based on the conditional entropy between x and y — or in human language, given the value of x, how many possible states does y have, and how often do they occur\n",
    "    <li>Unlike Cramer’s V, it is asymmetric, meaning U(x,y)≠U(y,x) while V(x,y)=V(y,x), where V is Cramer’s V\n",
    "    <li>The measurement has an output range between 0 to 1<ul>\n",
    "            <li>The closer the value to 0 means less association between the two variables\n",
    "            <li>1 means strong association between the two variables\n",
    "        </ul>\n",
    "</ul>"
   ]
  },
  {
   "cell_type": "code",
   "execution_count": 7,
   "metadata": {},
   "outputs": [],
   "source": [
    "# Theil's U already defined as Python functions by Shaked Zychlinski and codes can be found at https://github.com/shakedzy/dython\n",
    "import math\n",
    "from collections import Counter\n",
    "from scipy.stats import entropy\n",
    "\n",
    "_REPLACE = 'replace'\n",
    "_DEFAULT_REPLACE_VALUE = 0.0\n",
    "_DROP = 'drop'\n",
    "\n",
    "def remove_incomplete_samples(x, y):\n",
    "    x = [v if v is not None else np.nan for v in x]\n",
    "    y = [v if v is not None else np.nan for v in y]\n",
    "    arr = np.array([x, y]).transpose()\n",
    "    arr = arr[~np.isnan(arr).any(axis=1)].transpose()\n",
    "    if isinstance(x, list):\n",
    "        return arr[0].tolist(), arr[1].tolist()\n",
    "    else:\n",
    "        return arr[0], arr[1]\n",
    "\n",
    "def replace_nan_with_value(x, y, value):\n",
    "    x = np.array([v if v == v and v is not None else value for v in x]) \n",
    "    y = np.array([v if v == v and v is not None else value for v in y])\n",
    "    return x, y\n",
    "\n",
    "def conditional_entropy(x, y, nan_strategy=_REPLACE, nan_replace_value=_DEFAULT_REPLACE_VALUE, log_base: float = math.e):\n",
    "    if nan_strategy == _REPLACE:\n",
    "        x, y = replace_nan_with_value(x, y, nan_replace_value)\n",
    "    elif nan_strategy == _DROP:\n",
    "        x, y = remove_incomplete_samples(x, y)\n",
    "    y_counter = Counter(y)\n",
    "    xy_counter = Counter(list(zip(x, y)))\n",
    "    total_occurrences = sum(y_counter.values())\n",
    "    entropy_val = 0.0\n",
    "    for xy in xy_counter.keys():\n",
    "        p_xy = xy_counter[xy] / total_occurrences\n",
    "        p_y = y_counter[xy[1]] / total_occurrences\n",
    "        entropy_val += p_xy * math.log(p_y / p_xy, log_base)\n",
    "    return entropy_val\n",
    "\n",
    "def theils_u(x, y):\n",
    "    s_xy = conditional_entropy(x, y, nan_strategy='replace', nan_replace_value=0.0)\n",
    "    x_counter = Counter(x)\n",
    "    total_occurrences = sum(x_counter.values())\n",
    "    p_x = list(map(lambda n: n/total_occurrences, x_counter.values()))\n",
    "    s_x = entropy(p_x)\n",
    "    if s_x == 0:\n",
    "        return 1\n",
    "    else:\n",
    "        return (s_x - s_xy) / s_x"
   ]
  },
  {
   "cell_type": "code",
   "execution_count": 8,
   "metadata": {
    "tags": []
   },
   "outputs": [
    {
     "output_type": "display_data",
     "data": {
      "text/plain": "           bedrooms  bathrooms    floors  condition     grade\nbedrooms   1.000000   0.146666  0.037666   0.003022  0.076706\nbathrooms  0.086184   1.000000  0.114478   0.020905  0.150357\nfloors     0.045653   0.236123  1.000000   0.064546  0.151672\ncondition  0.004458   0.052477  0.078555   1.000000  0.030151\ngrade      0.065649   0.218992  0.107101   0.017494  1.000000",
      "text/html": "<div>\n<style scoped>\n    .dataframe tbody tr th:only-of-type {\n        vertical-align: middle;\n    }\n\n    .dataframe tbody tr th {\n        vertical-align: top;\n    }\n\n    .dataframe thead th {\n        text-align: right;\n    }\n</style>\n<table border=\"1\" class=\"dataframe\">\n  <thead>\n    <tr style=\"text-align: right;\">\n      <th></th>\n      <th>bedrooms</th>\n      <th>bathrooms</th>\n      <th>floors</th>\n      <th>condition</th>\n      <th>grade</th>\n    </tr>\n  </thead>\n  <tbody>\n    <tr>\n      <th>bedrooms</th>\n      <td>1.000000</td>\n      <td>0.146666</td>\n      <td>0.037666</td>\n      <td>0.003022</td>\n      <td>0.076706</td>\n    </tr>\n    <tr>\n      <th>bathrooms</th>\n      <td>0.086184</td>\n      <td>1.000000</td>\n      <td>0.114478</td>\n      <td>0.020905</td>\n      <td>0.150357</td>\n    </tr>\n    <tr>\n      <th>floors</th>\n      <td>0.045653</td>\n      <td>0.236123</td>\n      <td>1.000000</td>\n      <td>0.064546</td>\n      <td>0.151672</td>\n    </tr>\n    <tr>\n      <th>condition</th>\n      <td>0.004458</td>\n      <td>0.052477</td>\n      <td>0.078555</td>\n      <td>1.000000</td>\n      <td>0.030151</td>\n    </tr>\n    <tr>\n      <th>grade</th>\n      <td>0.065649</td>\n      <td>0.218992</td>\n      <td>0.107101</td>\n      <td>0.017494</td>\n      <td>1.000000</td>\n    </tr>\n  </tbody>\n</table>\n</div>"
     },
     "metadata": {}
    },
    {
     "output_type": "stream",
     "name": "stdout",
     "text": "Since all of features that we used are ordinal types, seems the result didn't show any strong or moderate correlation between each feature\n"
    }
   ],
   "source": [
    "# we don't have any nominal type variable in our current dataset so we'll use ordinal variables instead of nominal\n",
    "df_feats = df[['bedrooms', 'bathrooms', 'floors', 'condition', 'grade']].copy()\n",
    "\n",
    "corr_feats = pd.DataFrame(data=[[0]*len(df_feats.columns) for i in range(len(df_feats.columns))],\n",
    "                          columns=df_feats.columns\n",
    "                          ).set_index([pd.Index(df_feats.columns)])\n",
    "\n",
    "for i in df_feats.columns:\n",
    "    for j in df_feats.columns:\n",
    "        u = theils_u(df_feats[i], df_feats[j])\n",
    "        corr_feats.loc[i, j] = u\n",
    "\n",
    "display(corr_feats)\n",
    "print(\"Since all of features that we used are ordinal types, seems the result didn't show any strong or moderate correlation between each feature\")"
   ]
  },
  {
   "cell_type": "markdown",
   "metadata": {},
   "source": [
    "---\n",
    "---\n",
    "<h2>3. a) Point-Biserial</h2>\n",
    "<ul style=\"font-size:13px\">\n",
    "    <li>The Point-Biserial correlation coefficient (<i>rpb</i>) is a correlation coefficient used when we need to correlate a continuous variable with another dichotomous variable (<strong>nominal type/binary variable that only has 2 values, ie. : Male/Female, Yes/No, True/False, etc</strong>)\n",
    "    <li>The point biserial correlation coefficient lies in the range [-1, 1] with 0 implying no correlation and its interpretation is very similar to Pearson’s Product Moment Correlation Coefficient\n",
    "</ul>"
   ]
  },
  {
   "cell_type": "code",
   "execution_count": 9,
   "metadata": {},
   "outputs": [
    {
     "output_type": "display_data",
     "data": {
      "text/plain": "           sqft_living  sqft_lot  sqft_above  sqft_basement\nbedrooms      0.578406  0.032301    0.479557       0.302985\nbathrooms     0.755912  0.088225    0.686822       0.283586\nfloors        0.354475 -0.004675    0.524496      -0.245561\ncondition    -0.059378 -0.008930   -0.158815       0.173830\ngrade         0.762957  0.114576    0.756211       0.168436",
      "text/html": "<div>\n<style scoped>\n    .dataframe tbody tr th:only-of-type {\n        vertical-align: middle;\n    }\n\n    .dataframe tbody tr th {\n        vertical-align: top;\n    }\n\n    .dataframe thead th {\n        text-align: right;\n    }\n</style>\n<table border=\"1\" class=\"dataframe\">\n  <thead>\n    <tr style=\"text-align: right;\">\n      <th></th>\n      <th>sqft_living</th>\n      <th>sqft_lot</th>\n      <th>sqft_above</th>\n      <th>sqft_basement</th>\n    </tr>\n  </thead>\n  <tbody>\n    <tr>\n      <th>bedrooms</th>\n      <td>0.578406</td>\n      <td>0.032301</td>\n      <td>0.479557</td>\n      <td>0.302985</td>\n    </tr>\n    <tr>\n      <th>bathrooms</th>\n      <td>0.755912</td>\n      <td>0.088225</td>\n      <td>0.686822</td>\n      <td>0.283586</td>\n    </tr>\n    <tr>\n      <th>floors</th>\n      <td>0.354475</td>\n      <td>-0.004675</td>\n      <td>0.524496</td>\n      <td>-0.245561</td>\n    </tr>\n    <tr>\n      <th>condition</th>\n      <td>-0.059378</td>\n      <td>-0.008930</td>\n      <td>-0.158815</td>\n      <td>0.173830</td>\n    </tr>\n    <tr>\n      <th>grade</th>\n      <td>0.762957</td>\n      <td>0.114576</td>\n      <td>0.756211</td>\n      <td>0.168436</td>\n    </tr>\n  </tbody>\n</table>\n</div>"
     },
     "metadata": {}
    },
    {
     "output_type": "display_data",
     "data": {
      "text/plain": "       price  bedrooms  bathrooms    floors  condition    grade\nprice    1.0  0.308947   0.525908  0.257024    0.03611  0.66789",
      "text/html": "<div>\n<style scoped>\n    .dataframe tbody tr th:only-of-type {\n        vertical-align: middle;\n    }\n\n    .dataframe tbody tr th {\n        vertical-align: top;\n    }\n\n    .dataframe thead th {\n        text-align: right;\n    }\n</style>\n<table border=\"1\" class=\"dataframe\">\n  <thead>\n    <tr style=\"text-align: right;\">\n      <th></th>\n      <th>price</th>\n      <th>bedrooms</th>\n      <th>bathrooms</th>\n      <th>floors</th>\n      <th>condition</th>\n      <th>grade</th>\n    </tr>\n  </thead>\n  <tbody>\n    <tr>\n      <th>price</th>\n      <td>1.0</td>\n      <td>0.308947</td>\n      <td>0.525908</td>\n      <td>0.257024</td>\n      <td>0.03611</td>\n      <td>0.66789</td>\n    </tr>\n  </tbody>\n</table>\n</div>"
     },
     "metadata": {}
    }
   ],
   "source": [
    "# we don't have any binary variable in our current dataset so we'll use ordinal variables instead of binary\n",
    "from scipy.stats import pointbiserialr\n",
    "\n",
    "# Between 2 features\n",
    "df_feats = df.drop(columns=['price']).copy()\n",
    "cont_cols = ['sqft_living', 'sqft_lot', 'sqft_above', 'sqft_basement']\n",
    "cat_cols = ['bedrooms', 'bathrooms', 'floors', 'condition', 'grade']\n",
    "corr_feats = pd.DataFrame(data=[[0]*len(cont_cols) for i in range(len(cat_cols))],\n",
    "                          columns=cont_cols\n",
    "                          ).set_index([pd.Index(cat_cols)])\n",
    "\n",
    "for i in cat_cols:\n",
    "    for j in cont_cols:\n",
    "        rpb, pval = pointbiserialr(df_feats[i], df_feats[j])\n",
    "        corr_feats.loc[i, j] = rpb\n",
    "\n",
    "display(corr_feats)\n",
    "\n",
    "# Between feature and dependent variable\n",
    "df_dep = df[['price', 'bedrooms', 'bathrooms', 'floors', 'condition', 'grade']].copy()\n",
    "corr_dep = pd.DataFrame(data=[[0]*len(df_dep.columns)],\n",
    "                          columns=df_dep.columns\n",
    "                          ).set_index([pd.Index(['price'])])\n",
    "\n",
    "for i in df_dep.columns:\n",
    "    rpb, pval = pointbiserialr(df_dep[i], df_dep['price'])\n",
    "    corr_dep.loc['price', i] = rpb\n",
    "\n",
    "display(corr_dep)"
   ]
  },
  {
   "cell_type": "markdown",
   "metadata": {},
   "source": [
    "---\n",
    "<h2>3. b) Correlation Ratio</h2>\n",
    "<ul style=\"font-size:13px\">\n",
    "    <li>The correlation ratio is a measure of the relationship between the statistical dispersion within individual categories and the dispersion across the whole population or sample\n",
    "    <li>We can use the Correlation Ratio to measure the correlation a pair of a continuous feature and a categorical feature\n",
    "    <li>Mathematically, it is defined as the weighted variance of the mean of each category divided by the variance of all samples\n",
    "    <li>in human language, the Correlation Ratio answers the question <i>\"given a continuous number, how well can we know to which category it belongs to?\"</i>\n",
    "    <li>The measurement has an output range between 0 to 1<ul>\n",
    "            <li>The closer the value to 0 means less association between the two variables\n",
    "            <li>1 means strong association between the two variables\n",
    "        </ul>\n",
    "</ul>"
   ]
  },
  {
   "cell_type": "code",
   "execution_count": 10,
   "metadata": {},
   "outputs": [],
   "source": [
    "def correlation_ratio(categories, measurements):\n",
    "    fcat, _ = pd.factorize(categories)\n",
    "    cat_num = np.max(fcat)+1\n",
    "    y_avg_array = np.zeros(cat_num)\n",
    "    n_array = np.zeros(cat_num)\n",
    "    for i in range(0,cat_num):\n",
    "        cat_measures = measurements.iloc[np.argwhere(fcat == i).flatten()]\n",
    "        n_array[i] = len(cat_measures)\n",
    "        y_avg_array[i] = np.average(cat_measures)\n",
    "    y_total_avg = np.sum(np.multiply(y_avg_array,n_array))/np.sum(n_array)\n",
    "    numerator = np.sum(np.multiply(n_array,np.power(np.subtract(y_avg_array,y_total_avg),2)))\n",
    "    denominator = np.sum(np.power(np.subtract(measurements,y_total_avg),2))\n",
    "    if numerator == 0:\n",
    "        eta = 0.0\n",
    "    else:\n",
    "        eta = np.sqrt(numerator/denominator)\n",
    "    return eta"
   ]
  },
  {
   "cell_type": "code",
   "execution_count": 11,
   "metadata": {},
   "outputs": [
    {
     "output_type": "display_data",
     "data": {
      "text/plain": "           sqft_living  sqft_lot  sqft_above  sqft_basement\nbedrooms      0.602777  0.039613    0.511411       0.324039\nbathrooms     0.769482  0.122311    0.707841       0.377634\nfloors        0.443030  0.049153    0.609873       0.255572\ncondition     0.120097  0.042785    0.198974       0.174174\ngrade         0.774582  0.145166    0.770775       0.197681",
      "text/html": "<div>\n<style scoped>\n    .dataframe tbody tr th:only-of-type {\n        vertical-align: middle;\n    }\n\n    .dataframe tbody tr th {\n        vertical-align: top;\n    }\n\n    .dataframe thead th {\n        text-align: right;\n    }\n</style>\n<table border=\"1\" class=\"dataframe\">\n  <thead>\n    <tr style=\"text-align: right;\">\n      <th></th>\n      <th>sqft_living</th>\n      <th>sqft_lot</th>\n      <th>sqft_above</th>\n      <th>sqft_basement</th>\n    </tr>\n  </thead>\n  <tbody>\n    <tr>\n      <th>bedrooms</th>\n      <td>0.602777</td>\n      <td>0.039613</td>\n      <td>0.511411</td>\n      <td>0.324039</td>\n    </tr>\n    <tr>\n      <th>bathrooms</th>\n      <td>0.769482</td>\n      <td>0.122311</td>\n      <td>0.707841</td>\n      <td>0.377634</td>\n    </tr>\n    <tr>\n      <th>floors</th>\n      <td>0.443030</td>\n      <td>0.049153</td>\n      <td>0.609873</td>\n      <td>0.255572</td>\n    </tr>\n    <tr>\n      <th>condition</th>\n      <td>0.120097</td>\n      <td>0.042785</td>\n      <td>0.198974</td>\n      <td>0.174174</td>\n    </tr>\n    <tr>\n      <th>grade</th>\n      <td>0.774582</td>\n      <td>0.145166</td>\n      <td>0.770775</td>\n      <td>0.197681</td>\n    </tr>\n  </tbody>\n</table>\n</div>"
     },
     "metadata": {}
    },
    {
     "output_type": "display_data",
     "data": {
      "text/plain": "       price  bedrooms  bathrooms    floors  condition    grade\nprice    1.0  0.326477   0.597962  0.291021   0.082506  0.72115",
      "text/html": "<div>\n<style scoped>\n    .dataframe tbody tr th:only-of-type {\n        vertical-align: middle;\n    }\n\n    .dataframe tbody tr th {\n        vertical-align: top;\n    }\n\n    .dataframe thead th {\n        text-align: right;\n    }\n</style>\n<table border=\"1\" class=\"dataframe\">\n  <thead>\n    <tr style=\"text-align: right;\">\n      <th></th>\n      <th>price</th>\n      <th>bedrooms</th>\n      <th>bathrooms</th>\n      <th>floors</th>\n      <th>condition</th>\n      <th>grade</th>\n    </tr>\n  </thead>\n  <tbody>\n    <tr>\n      <th>price</th>\n      <td>1.0</td>\n      <td>0.326477</td>\n      <td>0.597962</td>\n      <td>0.291021</td>\n      <td>0.082506</td>\n      <td>0.72115</td>\n    </tr>\n  </tbody>\n</table>\n</div>"
     },
     "metadata": {}
    }
   ],
   "source": [
    "# Between 2 features\n",
    "df_feats = df.drop(columns=['price']).copy()\n",
    "cont_cols = ['sqft_living', 'sqft_lot', 'sqft_above', 'sqft_basement']\n",
    "cat_cols = ['bedrooms', 'bathrooms', 'floors', 'condition', 'grade']\n",
    "corr_feats = pd.DataFrame(data=[[0]*len(cont_cols) for i in range(len(cat_cols))],\n",
    "                          columns=cont_cols\n",
    "                          ).set_index([pd.Index(cat_cols)])\n",
    "\n",
    "for i in cat_cols:\n",
    "    for j in cont_cols:\n",
    "        eta = correlation_ratio(df_feats[i], df_feats[j])\n",
    "        corr_feats.loc[i, j] = eta\n",
    "\n",
    "display(corr_feats)\n",
    "\n",
    "# Between feature and dependent variable\n",
    "df_dep = df[['price', 'bedrooms', 'bathrooms', 'floors', 'condition', 'grade']].copy()\n",
    "corr_dep = pd.DataFrame(data=[[0]*len(df_dep.columns)],\n",
    "                          columns=df_dep.columns\n",
    "                          ).set_index([pd.Index(['price'])])\n",
    "\n",
    "for i in df_dep.columns:\n",
    "    eta = correlation_ratio(df_dep[i], df_dep['price'])\n",
    "    corr_dep.loc['price', i] = eta\n",
    "\n",
    "display(corr_dep)"
   ]
  }
 ]
}