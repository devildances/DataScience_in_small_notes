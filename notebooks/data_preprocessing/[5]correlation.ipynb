{
 "metadata": {
  "language_info": {
   "codemirror_mode": {
    "name": "ipython",
    "version": 3
   },
   "file_extension": ".py",
   "mimetype": "text/x-python",
   "name": "python",
   "nbconvert_exporter": "python",
   "pygments_lexer": "ipython3",
   "version": "3.7.7-final"
  },
  "orig_nbformat": 2,
  "kernelspec": {
   "name": "python3",
   "display_name": "Python 3"
  }
 },
 "nbformat": 4,
 "nbformat_minor": 2,
 "cells": [
  {
   "cell_type": "code",
   "execution_count": null,
   "metadata": {},
   "outputs": [],
   "source": [
    "import pandas as pd\n",
    "import numpy as np\n",
    "import matplotlib as mpl\n",
    "import matplotlib.pyplot as plt\n",
    "from scipy import stats\n",
    "import seaborn as sns\n",
    "\n",
    "mpl.style.use('seaborn-whitegrid')\n",
    "%matplotlib inline"
   ]
  },
  {
   "cell_type": "code",
   "execution_count": null,
   "metadata": {},
   "outputs": [],
   "source": [
    "df = pd.read_csv('../../data/clean/house_data.csv',\n",
    "                 usecols=['price', 'bedrooms', 'bathrooms', 'sqft_living', 'sqft_lot', 'floors', 'condition', 'grade', 'sqft_above', 'sqft_basement'])\n",
    "df.drop_duplicates(inplace=True)\n",
    "df.dropna(axis=0, inplace=True)\n",
    "df = df[df.bedrooms != 0]\n",
    "df.head()"
   ]
  },
  {
   "cell_type": "markdown",
   "metadata": {},
   "source": [
    "---\n",
    "<h1>Correlation</h1>\n",
    "<!-- <img src=\"../../images/corr.JPG\" style=\"background:white; display: block; margin-left: auto;margin-right: auto; width:60%\"/> -->\n",
    "<img src=\"../../images/corr.JPG\" style=\"background:white; display: block; margin-left: auto;margin-right: auto; width:60%\"/>\n",
    "<ul style=\"font-size:13px\">\n",
    "    <li><strong>WHAT</strong><ul>\n",
    "            <li>Correlation is a statistical measure that explains how one or more variables are related to each other\n",
    "            <li>These variables can be input data features which have been used to forecast our target variable\n",
    "            <li><strong>Correlation does not cause causation</strong> (ie. : correlation between Ice cream sales and sunglasses sold)\n",
    "            <li>Correlations can be divided into three common types:<ul>\n",
    "                    <li><strong>Strong Positive Correlation</strong> — Two features can be positively correlated with each other which means that when the value of one variable increases then the value of the other variable(s) also increases\n",
    "                    <li><strong>Strong Negative Correlation</strong> — Two features can be negatively correlated with each other that occurs when the value of one variable increases and the value of other variable(s) decreases\n",
    "                    <li><strong>No Correlation</strong> — Two features might not have any relationship with each other which happens when the value of a variable is changed then the value of the other variable is not impacted\n",
    "                </ul>\n",
    "        </ul>\n",
    "    <li><strong>WHY</strong><ul>\n",
    "            <li>Features with high correlation are more linearly dependent and hence have almost the same effect on the dependent variable so when two features have high correlation, we can drop one of the two features, this is called <i><strong>\"Correlation-Based Feature Selection\"</strong></i>\n",
    "            <li>Correlation helps us in determining the degree of relationship between variables and enables us to make our decision for the future course of actions\n",
    "            <li>Essentially, correlation analysis is used for spotting patterns within datasets\n",
    "            <li>Through the correlation analysis, we evaluate correlation coefficient that tells us how much one variable changes when the other one does\n",
    "        </ul>\n",
    "    <li><strong>HOW</strong><ul>\n",
    "            <li>Calculate based on level of measurement<ul>\n",
    "                    <li>Linear correlation (both are continuous variables)<ul>\n",
    "                            <li><strong>Pearson's r</strong>\n",
    "                            <li><strong>Spearman's Rho</strong>\n",
    "                            <li><strong>Kendall's Tau</strong>\n",
    "                        </ul>\n",
    "                    <li>Categorical correlation (both are categorical variables)<ul>\n",
    "                            <li><strong>Cramer's V</strong>\n",
    "                            <li><strong>Theil's U</strong>\n",
    "                        </ul>\n",
    "                    <li>Different types of data correlation continuous and categorical variabels()<ul>\n",
    "                            <li><strong>Point-Biserial</strong>\n",
    "                            <li><strong>Logistic Regression</strong>\n",
    "                            <li><strong>Kruskal-Wallis H test</strong>\n",
    "                        </ul>\n",
    "                </ul>\n",
    "            <li>Result of calculation<ul>\n",
    "                    <li><strong>Correlation coefficient (<i>r</i>)</strong>\n",
    "                </ul>\n",
    "            <li>\n",
    "        </ul>\n",
    "</ul>"
   ]
  },
  {
   "cell_type": "code",
   "execution_count": null,
   "metadata": {},
   "outputs": [],
   "source": []
  }
 ]
}